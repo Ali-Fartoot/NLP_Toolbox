{
 "cells": [
  {
   "cell_type": "markdown",
   "id": "1580d4e2",
   "metadata": {},
   "source": [
    "# load data "
   ]
  },
  {
   "cell_type": "code",
   "execution_count": 77,
   "id": "3cd55042",
   "metadata": {},
   "outputs": [],
   "source": [
    "from datasets import load_dataset,Dataset,load_from_disk ,concatenate_datasets, DatasetDict , Sequence , Value , Features , ClassLabel\n",
    "persian = load_from_disk(\"PEYMA_ARMAN_MIXED.hf\")\n",
    "english = load_from_disk(\"Conell_en.hf\")"
   ]
  },
  {
   "cell_type": "code",
   "execution_count": 78,
   "id": "eca40db7",
   "metadata": {},
   "outputs": [
    {
     "data": {
      "text/plain": [
       "DatasetDict({\n",
       "    train: Dataset({\n",
       "        features: ['tokens', 'ner_tags', 'ner_tags_names'],\n",
       "        num_rows: 11343\n",
       "    })\n",
       "    test: Dataset({\n",
       "        features: ['tokens', 'ner_tags', 'ner_tags_names'],\n",
       "        num_rows: 2890\n",
       "    })\n",
       "    validation: Dataset({\n",
       "        features: ['tokens', 'ner_tags', 'ner_tags_names'],\n",
       "        num_rows: 2555\n",
       "    })\n",
       "})"
      ]
     },
     "execution_count": 78,
     "metadata": {},
     "output_type": "execute_result"
    }
   ],
   "source": [
    "english"
   ]
  },
  {
   "cell_type": "markdown",
   "id": "caa1599e",
   "metadata": {},
   "source": [
    "# Removing non-subscription tags"
   ]
  },
  {
   "cell_type": "code",
   "execution_count": 79,
   "id": "90b8a048",
   "metadata": {},
   "outputs": [],
   "source": [
    "tags = ['B_DAT',\n",
    " 'B_EVE',\n",
    " 'B_FAC',\n",
    " 'B_MON',\n",
    " 'B_PCT',\n",
    " 'B_PRO',\n",
    " 'B_TIM',\n",
    " 'I_DAT',\n",
    " 'I_EVE',\n",
    " 'I_FAC',\n",
    " 'I_MON',\n",
    " 'I_PCT',\n",
    " 'I_PRO',\n",
    " 'I_TIM']"
   ]
  },
  {
   "cell_type": "code",
   "execution_count": 80,
   "id": "e20c00a9",
   "metadata": {},
   "outputs": [],
   "source": [
    "tags = set(tags)\n",
    "def remove_tags(example):\n",
    "    if any(tag in tags for tag in example):\n",
    "        return None\n",
    "    else:\n",
    "        return example"
   ]
  },
  {
   "cell_type": "code",
   "execution_count": 81,
   "id": "b3f32613",
   "metadata": {},
   "outputs": [],
   "source": [
    "import pandas\n",
    "df_train = persian['train'].to_pandas()\n",
    "df_test = persian['test'].to_pandas()\n",
    "df_valid = persian['validation'].to_pandas()\n",
    "\n",
    "df_train['ner_tags_names'] = df_train['ner_tags_names'].apply(remove_tags)\n",
    "df_test['ner_tags_names'] = df_test['ner_tags_names'].apply(remove_tags)\n",
    "df_valid['ner_tags_names'] = df_valid['ner_tags_names'].apply(remove_tags)\n",
    "\n",
    "# Remove rows with None values\n",
    "df_train = df_train.dropna()\n",
    "df_valid = df_valid.dropna()\n",
    "df_test = df_test.dropna()"
   ]
  },
  {
   "cell_type": "code",
   "execution_count": 82,
   "id": "e69e4749",
   "metadata": {},
   "outputs": [
    {
     "data": {
      "text/plain": [
       "{'B_LOC', 'B_ORG', 'B_PER', 'I_LOC', 'I_ORG', 'I_PER', 'O'}"
      ]
     },
     "execution_count": 82,
     "metadata": {},
     "output_type": "execute_result"
    }
   ],
   "source": [
    "res = []\n",
    "for tags in df_train['ner_tags_names']:\n",
    "    for tag in tags:\n",
    "        res.append(tag)\n",
    "set(res)"
   ]
  },
  {
   "cell_type": "code",
   "execution_count": 83,
   "id": "f9343a1a",
   "metadata": {},
   "outputs": [],
   "source": [
    "persian_aligned = DatasetDict()\n",
    "persian_aligned['train'] = Dataset.from_pandas(df_train)\n",
    "persian_aligned['test'] = Dataset.from_pandas(df_test)\n",
    "persian_aligned['validation'] = Dataset.from_pandas(df_valid)"
   ]
  },
  {
   "cell_type": "markdown",
   "id": "027839f9",
   "metadata": {},
   "source": [
    "# Convert tags to unique one"
   ]
  },
  {
   "cell_type": "code",
   "execution_count": 84,
   "id": "e51d8e93",
   "metadata": {},
   "outputs": [
    {
     "data": {
      "application/vnd.jupyter.widget-view+json": {
       "model_id": "",
       "version_major": 2,
       "version_minor": 0
      },
      "text/plain": [
       "Map:   0%|          | 0/11343 [00:00<?, ? examples/s]"
      ]
     },
     "metadata": {},
     "output_type": "display_data"
    },
    {
     "data": {
      "application/vnd.jupyter.widget-view+json": {
       "model_id": "",
       "version_major": 2,
       "version_minor": 0
      },
      "text/plain": [
       "Map:   0%|          | 0/2890 [00:00<?, ? examples/s]"
      ]
     },
     "metadata": {},
     "output_type": "display_data"
    },
    {
     "data": {
      "application/vnd.jupyter.widget-view+json": {
       "model_id": "",
       "version_major": 2,
       "version_minor": 0
      },
      "text/plain": [
       "Map:   0%|          | 0/2555 [00:00<?, ? examples/s]"
      ]
     },
     "metadata": {},
     "output_type": "display_data"
    },
    {
     "data": {
      "application/vnd.jupyter.widget-view+json": {
       "model_id": "",
       "version_major": 2,
       "version_minor": 0
      },
      "text/plain": [
       "Casting the dataset:   0%|          | 0/11343 [00:00<?, ? examples/s]"
      ]
     },
     "metadata": {},
     "output_type": "display_data"
    },
    {
     "data": {
      "application/vnd.jupyter.widget-view+json": {
       "model_id": "",
       "version_major": 2,
       "version_minor": 0
      },
      "text/plain": [
       "Casting the dataset:   0%|          | 0/2890 [00:00<?, ? examples/s]"
      ]
     },
     "metadata": {},
     "output_type": "display_data"
    },
    {
     "data": {
      "application/vnd.jupyter.widget-view+json": {
       "model_id": "",
       "version_major": 2,
       "version_minor": 0
      },
      "text/plain": [
       "Casting the dataset:   0%|          | 0/2555 [00:00<?, ? examples/s]"
      ]
     },
     "metadata": {},
     "output_type": "display_data"
    },
    {
     "data": {
      "application/vnd.jupyter.widget-view+json": {
       "model_id": "",
       "version_major": 2,
       "version_minor": 0
      },
      "text/plain": [
       "Casting the dataset:   0%|          | 0/21838 [00:00<?, ? examples/s]"
      ]
     },
     "metadata": {},
     "output_type": "display_data"
    },
    {
     "data": {
      "application/vnd.jupyter.widget-view+json": {
       "model_id": "",
       "version_major": 2,
       "version_minor": 0
      },
      "text/plain": [
       "Casting the dataset:   0%|          | 0/2693 [00:00<?, ? examples/s]"
      ]
     },
     "metadata": {},
     "output_type": "display_data"
    },
    {
     "data": {
      "application/vnd.jupyter.widget-view+json": {
       "model_id": "",
       "version_major": 2,
       "version_minor": 0
      },
      "text/plain": [
       "Casting the dataset:   0%|          | 0/2779 [00:00<?, ? examples/s]"
      ]
     },
     "metadata": {},
     "output_type": "display_data"
    }
   ],
   "source": [
    "\n",
    "def convert_tags(example):\n",
    "    '''\n",
    "    Convert each label to a unique label (aligning labels for two datasets)\n",
    "    '''\n",
    "    maps = {'B-LOC':'B_LOC', 'I-LOC':'I_LOC', 'I-PER':'I_PER',\n",
    "            'B-ORG':'B_ORG', 'I-ORG':'I_ORG','B-PER':'B_PER',\n",
    "            'O':'O'}\n",
    "    \n",
    "    converted_tags = [maps[tag] for tag in example['ner_tags_names']]\n",
    "    example['ner_tags_names'] = converted_tags\n",
    "    return example\n",
    "\n",
    "\n",
    "english_aligned = english.map(convert_tags)\n",
    "tags = ['O', 'B_PER', 'I_PER', 'B_ORG', 'I_ORG', 'B_LOC', 'I_LOC']\n",
    "ner_tags = ClassLabel(num_classes=len(tags) , names=tags)\n",
    "\n",
    "# Change the data type of the 'tags_names' column to string\n",
    "english_aligned = english_aligned.cast_column('ner_tags',Sequence(ner_tags))\n",
    "persian_aligned = persian_aligned.cast_column('ner_tags',Sequence(ner_tags))"
   ]
  },
  {
   "cell_type": "code",
   "execution_count": 108,
   "id": "ffacbf54",
   "metadata": {},
   "outputs": [
    {
     "data": {
      "text/plain": [
       "(Sequence(feature=Value(dtype='string', id=None), length=-1, id=None),\n",
       " Sequence(feature=Value(dtype='string', id=None), length=-1, id=None))"
      ]
     },
     "execution_count": 108,
     "metadata": {},
     "output_type": "execute_result"
    }
   ],
   "source": [
    "persian_aligned['train'].features['ner_tags'],english_aligned['train'].features['ner_tags']"
   ]
  },
  {
   "cell_type": "markdown",
   "id": "157b82aa",
   "metadata": {},
   "source": [
    "# Convert each tag to a number"
   ]
  },
  {
   "cell_type": "code",
   "execution_count": 109,
   "id": "a9fc4f26",
   "metadata": {},
   "outputs": [],
   "source": [
    "def create_tag_number(batch):\n",
    "    tags = {'O':0, 'B_PER':1, 'I_PER':2, 'B_ORG':3, 'I_ORG':4, 'B_LOC':5, 'I_LOC':6}\n",
    "    \n",
    "    \"\"\"\n",
    "   Convert each number label to its value for improve readability\n",
    "                                           and return new column\n",
    "    \"\"\"\n",
    "    return {'ner_tags' : [tags[idx] for idx in batch['ner_tags_names']]}"
   ]
  },
  {
   "cell_type": "code",
   "execution_count": 110,
   "id": "dee34fd7",
   "metadata": {},
   "outputs": [
    {
     "data": {
      "application/vnd.jupyter.widget-view+json": {
       "model_id": "",
       "version_major": 2,
       "version_minor": 0
      },
      "text/plain": [
       "Map:   0%|          | 0/21838 [00:00<?, ? examples/s]"
      ]
     },
     "metadata": {},
     "output_type": "display_data"
    },
    {
     "data": {
      "application/vnd.jupyter.widget-view+json": {
       "model_id": "",
       "version_major": 2,
       "version_minor": 0
      },
      "text/plain": [
       "Map:   0%|          | 0/2693 [00:00<?, ? examples/s]"
      ]
     },
     "metadata": {},
     "output_type": "display_data"
    },
    {
     "data": {
      "application/vnd.jupyter.widget-view+json": {
       "model_id": "",
       "version_major": 2,
       "version_minor": 0
      },
      "text/plain": [
       "Map:   0%|          | 0/2779 [00:00<?, ? examples/s]"
      ]
     },
     "metadata": {},
     "output_type": "display_data"
    },
    {
     "data": {
      "application/vnd.jupyter.widget-view+json": {
       "model_id": "",
       "version_major": 2,
       "version_minor": 0
      },
      "text/plain": [
       "Map:   0%|          | 0/11343 [00:00<?, ? examples/s]"
      ]
     },
     "metadata": {},
     "output_type": "display_data"
    },
    {
     "data": {
      "application/vnd.jupyter.widget-view+json": {
       "model_id": "",
       "version_major": 2,
       "version_minor": 0
      },
      "text/plain": [
       "Map:   0%|          | 0/2890 [00:00<?, ? examples/s]"
      ]
     },
     "metadata": {},
     "output_type": "display_data"
    },
    {
     "data": {
      "application/vnd.jupyter.widget-view+json": {
       "model_id": "",
       "version_major": 2,
       "version_minor": 0
      },
      "text/plain": [
       "Map:   0%|          | 0/2555 [00:00<?, ? examples/s]"
      ]
     },
     "metadata": {},
     "output_type": "display_data"
    }
   ],
   "source": [
    "persian_aligned = persian_aligned.map(create_tag_number)\n",
    "english_aligned  = english_aligned.map(create_tag_number)"
   ]
  },
  {
   "cell_type": "code",
   "execution_count": 121,
   "id": "fac8fecb",
   "metadata": {},
   "outputs": [],
   "source": [
    "# Concatenate two datsets two unique datset.\n",
    "corpus = DatasetDict()\n",
    "corpus['train'] = concatenate_datasets([persian_aligned['train'],english_aligned['train']])\n",
    "corpus['test'] = concatenate_datasets([persian_aligned['test'],english_aligned['test']])\n",
    "corpus['validation'] = concatenate_datasets([persian_aligned['validation'],english_aligned['validation']])\n"
   ]
  },
  {
   "cell_type": "code",
   "execution_count": 112,
   "id": "55faaa6d",
   "metadata": {},
   "outputs": [
    {
     "data": {
      "text/plain": [
       "{0, 1, 2, 3, 4, 5, 6}"
      ]
     },
     "execution_count": 112,
     "metadata": {},
     "output_type": "execute_result"
    }
   ],
   "source": [
    "res = []\n",
    "for tags in persian_aligned['train']['ner_tags']:\n",
    "    for tag in tags:\n",
    "        res.append(tag)\n",
    "set(res)"
   ]
  },
  {
   "cell_type": "code",
   "execution_count": 113,
   "id": "7029ad88",
   "metadata": {},
   "outputs": [
    {
     "data": {
      "text/plain": [
       "{0, 1, 2, 3, 4, 5, 6}"
      ]
     },
     "execution_count": 113,
     "metadata": {},
     "output_type": "execute_result"
    }
   ],
   "source": [
    "res = []\n",
    "for tags in english_aligned['train']['ner_tags']:\n",
    "    for tag in tags:\n",
    "        res.append(tag)\n",
    "set(res)"
   ]
  },
  {
   "cell_type": "code",
   "execution_count": 122,
   "id": "91e368e4",
   "metadata": {},
   "outputs": [
    {
     "data": {
      "application/vnd.jupyter.widget-view+json": {
       "model_id": "",
       "version_major": 2,
       "version_minor": 0
      },
      "text/plain": [
       "Saving the dataset (0/1 shards):   0%|          | 0/33181 [00:00<?, ? examples/s]"
      ]
     },
     "metadata": {},
     "output_type": "display_data"
    },
    {
     "data": {
      "application/vnd.jupyter.widget-view+json": {
       "model_id": "",
       "version_major": 2,
       "version_minor": 0
      },
      "text/plain": [
       "Saving the dataset (0/1 shards):   0%|          | 0/5583 [00:00<?, ? examples/s]"
      ]
     },
     "metadata": {},
     "output_type": "display_data"
    },
    {
     "data": {
      "application/vnd.jupyter.widget-view+json": {
       "model_id": "",
       "version_major": 2,
       "version_minor": 0
      },
      "text/plain": [
       "Saving the dataset (0/1 shards):   0%|          | 0/5334 [00:00<?, ? examples/s]"
      ]
     },
     "metadata": {},
     "output_type": "display_data"
    }
   ],
   "source": [
    "# save model\n",
    "corpus = corpus.shuffle(42)\n",
    "corpus.save_to_disk(\"ner_dataset_fa_en.hf\")"
   ]
  }
 ],
 "metadata": {
  "kernelspec": {
   "display_name": "Python [conda env:Pytorch]",
   "language": "python",
   "name": "conda-env-Pytorch-py"
  },
  "language_info": {
   "codemirror_mode": {
    "name": "ipython",
    "version": 3
   },
   "file_extension": ".py",
   "mimetype": "text/x-python",
   "name": "python",
   "nbconvert_exporter": "python",
   "pygments_lexer": "ipython3",
   "version": "3.9.13"
  }
 },
 "nbformat": 4,
 "nbformat_minor": 5
}
