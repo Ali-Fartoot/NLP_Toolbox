{
 "cells": [
  {
   "cell_type": "markdown",
   "id": "19c1887d",
   "metadata": {},
   "source": [
    "# Load dataset"
   ]
  },
  {
   "cell_type": "code",
   "execution_count": 6,
   "id": "e5fccdff",
   "metadata": {},
   "outputs": [],
   "source": [
    "from datasets import load_from_disk\n",
    "train = load_from_disk(\"train.hf\")\n",
    "test = load_from_disk(\"test.hf\")"
   ]
  },
  {
   "cell_type": "code",
   "execution_count": 7,
   "id": "dee024e8",
   "metadata": {},
   "outputs": [
    {
     "name": "stderr",
     "output_type": "stream",
     "text": [
      "Loading cached shuffled indices for dataset at E:\\ML\\NLP_Toolbox\\NER\\train.hf\\cache-aab69560c24eae2b.arrow\n"
     ]
    }
   ],
   "source": [
    "train = train.shuffle(seed=42)"
   ]
  },
  {
   "cell_type": "code",
   "execution_count": 8,
   "id": "7d3c53f7",
   "metadata": {},
   "outputs": [
    {
     "name": "stderr",
     "output_type": "stream",
     "text": [
      "Loading cached shuffled indices for dataset at E:\\ML\\NLP_Toolbox\\NER\\test.hf\\cache-6c7c52e5435094d8.arrow\n"
     ]
    }
   ],
   "source": [
    "test = test.shuffle(seed=42)"
   ]
  },
  {
   "cell_type": "markdown",
   "id": "a85c4a9f",
   "metadata": {},
   "source": [
    "# Processing Bert without cleaning"
   ]
  },
  {
   "cell_type": "code",
   "execution_count": 9,
   "id": "777087e0",
   "metadata": {},
   "outputs": [],
   "source": [
    "from transformers import AutoTokenizer\n",
    "bert_model_name = \"HooshvareLab/bert-fa-zwnj-base\"\n",
    "bert_tokenizer = AutoTokenizer.from_pretrained(bert_model_name)"
   ]
  },
  {
   "cell_type": "code",
   "execution_count": 10,
   "id": "2bdecf95",
   "metadata": {},
   "outputs": [
    {
     "data": {
      "text/plain": [
       "['[CLS]',\n",
       " 'جمعیت',\n",
       " 'جمعیت',\n",
       " 'این',\n",
       " 'دهستان',\n",
       " 'بر',\n",
       " 'اساس',\n",
       " 'سرشماری',\n",
       " 'سال',\n",
       " '۱۳۸۵',\n",
       " '(',\n",
       " '۱',\n",
       " '٬',\n",
       " '۲۱۲',\n",
       " '##خانوار',\n",
       " ')',\n",
       " '۵',\n",
       " '٬',\n",
       " '۱۱۸',\n",
       " '##نفر',\n",
       " 'بوده',\n",
       " 'است',\n",
       " '.',\n",
       " '[SEP]']"
      ]
     },
     "execution_count": 10,
     "metadata": {},
     "output_type": "execute_result"
    }
   ],
   "source": [
    "text = \" \".join(train[\"words\"][0])\n",
    "bert_tokens = bert_tokenizer(text).tokens()\n",
    "bert_tokens"
   ]
  },
  {
   "cell_type": "code",
   "execution_count": 11,
   "id": "dd43da29",
   "metadata": {},
   "outputs": [
    {
     "data": {
      "text/plain": [
       "'جمعیت جمعیت این دهستان بر اساس سرشماری سال ۱۳۸۵ ( ۱٬۲۱۲خانوار ) ۵٬۱۱۸نفر بوده است .'"
      ]
     },
     "execution_count": 11,
     "metadata": {},
     "output_type": "execute_result"
    }
   ],
   "source": [
    "\" \".join(train[\"words\"][0])"
   ]
  },
  {
   "cell_type": "markdown",
   "id": "d4ec20e4",
   "metadata": {},
   "source": [
    "## Create a custom model for token classification"
   ]
  },
  {
   "cell_type": "code",
   "execution_count": 14,
   "id": "b0234ec0",
   "metadata": {},
   "outputs": [
    {
     "name": "stderr",
     "output_type": "stream",
     "text": [
      "Some weights of BertModel were not initialized from the model checkpoint at HooshvareLab/bert-fa-zwnj-base and are newly initialized: ['bert.pooler.dense.weight', 'bert.pooler.dense.bias']\n",
      "You should probably TRAIN this model on a down-stream task to be able to use it for predictions and inference.\n"
     ]
    }
   ],
   "source": [
    "from transformers import AutoConfig, AutoModel\n",
    "\n",
    "bert_model = AutoModel.from_pretrained(\"HooshvareLab/bert-fa-zwnj-base\",cache_dir=Path.cwd())\n",
    "bert_model = AutoConfig.from_pretrained(\"HooshvareLab/bert-fa-zwnj-base\",cache_dir=Path.cwd())"
   ]
  }
 ],
 "metadata": {
  "kernelspec": {
   "display_name": "Python [conda env:Pytorch]",
   "language": "python",
   "name": "conda-env-Pytorch-py"
  },
  "language_info": {
   "codemirror_mode": {
    "name": "ipython",
    "version": 3
   },
   "file_extension": ".py",
   "mimetype": "text/x-python",
   "name": "python",
   "nbconvert_exporter": "python",
   "pygments_lexer": "ipython3",
   "version": "3.9.13"
  }
 },
 "nbformat": 4,
 "nbformat_minor": 5
}
