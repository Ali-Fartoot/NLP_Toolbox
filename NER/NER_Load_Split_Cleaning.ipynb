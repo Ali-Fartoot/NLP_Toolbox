{
 "cells": [
  {
   "cell_type": "markdown",
   "id": "c28cc82b",
   "metadata": {},
   "source": [
    "# Download and Load data"
   ]
  },
  {
   "cell_type": "code",
   "execution_count": 1,
   "id": "a1dc6f5d",
   "metadata": {},
   "outputs": [
    {
     "name": "stderr",
     "output_type": "stream",
     "text": [
      "C:\\Users\\11\\anaconda3\\envs\\Pytorch\\lib\\site-packages\\ipykernel\\parentpoller.py:110: UserWarning: Parent poll failed.  If the frontend dies,\n",
      "                the kernel may be left running.  Please let us know\n",
      "                about your system (bitness, Python, etc.) at\n",
      "                ipython-dev@scipy.org\n",
      "  warnings.warn(\n"
     ]
    }
   ],
   "source": [
    "from datasets import load_dataset\n",
    "import datasets\n",
    "from pathlib import Path"
   ]
  },
  {
   "cell_type": "code",
   "execution_count": 2,
   "id": "25cf68b7",
   "metadata": {},
   "outputs": [],
   "source": [
    "\n",
    "folder_path = Path(r\"E:\\ML\\NLP_Toolbox\\NER\\polyglot_ner\\combined\\1.0.0\\bb2e45c90cd345c87dfd757c8e2b808b78b0094543b511ac49bc0129699609c1\")\n",
    "data = []\n",
    "for file_path in folder_path.glob(\"*\"):\n",
    "    if file_path.is_file():\n",
    "        data.append(str(file_path.resolve()))\n",
    "data = data[1:]"
   ]
  },
  {
   "cell_type": "code",
   "execution_count": 3,
   "id": "ba7d3c59",
   "metadata": {},
   "outputs": [
    {
     "name": "stderr",
     "output_type": "stream",
     "text": [
      "Found cached dataset arrow (C:/Users/11/.cache/huggingface/datasets/arrow/default-5bc4303e6b42c700/0.0.0/74f69db2c14c2860059d39860b1f400a03d11bf7fb5a8258ca38c501c878c137)\n"
     ]
    }
   ],
   "source": [
    "from datasets import Dataset\n",
    "dataset = load_dataset(\"arrow\", data_files=data,split='train')"
   ]
  },
  {
   "cell_type": "markdown",
   "id": "8884487a",
   "metadata": {},
   "source": [
    "# Split Persian and English"
   ]
  },
  {
   "cell_type": "code",
   "execution_count": 6,
   "id": "3eaa3fcd",
   "metadata": {},
   "outputs": [],
   "source": [
    "from collections import defaultdict\n",
    "from datasets import DatasetDict"
   ]
  },
  {
   "cell_type": "code",
   "execution_count": 8,
   "id": "d437873b",
   "metadata": {},
   "outputs": [
    {
     "data": {
      "application/vnd.jupyter.widget-view+json": {
       "model_id": "",
       "version_major": 2,
       "version_minor": 0
      },
      "text/plain": [
       "Filter:   0%|          | 0/21070925 [00:00<?, ? examples/s]"
      ]
     },
     "metadata": {},
     "output_type": "display_data"
    }
   ],
   "source": [
    "# Define the filter condition\n",
    "filter_condition = lambda example: example[\"lang\"] == \"fa\" or example[\"lang\"] == \"en\"\n",
    "\n",
    "# Apply the filter\n",
    "corpus = dataset.filter(filter_condition)"
   ]
  },
  {
   "cell_type": "code",
   "execution_count": 9,
   "id": "5caff54b",
   "metadata": {},
   "outputs": [],
   "source": [
    "import pandas as pd\n",
    "df = pd.DataFrame(corpus)"
   ]
  },
  {
   "cell_type": "code",
   "execution_count": 10,
   "id": "c733e30c",
   "metadata": {},
   "outputs": [
    {
     "data": {
      "text/html": [
       "<div>\n",
       "<style scoped>\n",
       "    .dataframe tbody tr th:only-of-type {\n",
       "        vertical-align: middle;\n",
       "    }\n",
       "\n",
       "    .dataframe tbody tr th {\n",
       "        vertical-align: top;\n",
       "    }\n",
       "\n",
       "    .dataframe thead th {\n",
       "        text-align: right;\n",
       "    }\n",
       "</style>\n",
       "<table border=\"1\" class=\"dataframe\">\n",
       "  <thead>\n",
       "    <tr style=\"text-align: right;\">\n",
       "      <th></th>\n",
       "      <th>id</th>\n",
       "      <th>lang</th>\n",
       "      <th>words</th>\n",
       "      <th>ner</th>\n",
       "    </tr>\n",
       "  </thead>\n",
       "  <tbody>\n",
       "    <tr>\n",
       "      <th>174515</th>\n",
       "      <td>11090409</td>\n",
       "      <td>fa</td>\n",
       "      <td>[سیارک, ۱۲۴۷۲, دوازده, هزار, و, چهارصد, و, هفت...</td>\n",
       "      <td>[O, O, O, O, O, O, O, O, O, O, O, O, O, O, O, ...</td>\n",
       "    </tr>\n",
       "    <tr>\n",
       "      <th>503141</th>\n",
       "      <td>15875242</td>\n",
       "      <td>en</td>\n",
       "      <td>[He, has, also, written, for, Men, of, a, Cert...</td>\n",
       "      <td>[O, O, O, O, O, O, O, O, O, O, O, O, O, O, O, ...</td>\n",
       "    </tr>\n",
       "    <tr>\n",
       "      <th>716771</th>\n",
       "      <td>16088872</td>\n",
       "      <td>en</td>\n",
       "      <td>[Its, plan, is, square, and, the, house, has, ...</td>\n",
       "      <td>[O, O, O, O, O, O, O, O, O, O, O, O, O, O, O, ...</td>\n",
       "    </tr>\n",
       "    <tr>\n",
       "      <th>724382</th>\n",
       "      <td>16096483</td>\n",
       "      <td>en</td>\n",
       "      <td>[Since, then, ,, Rowland, worked, on, a, numbe...</td>\n",
       "      <td>[O, O, O, O, O, O, O, O, O, O, O, O, O, O, O, ...</td>\n",
       "    </tr>\n",
       "    <tr>\n",
       "      <th>685439</th>\n",
       "      <td>16057540</td>\n",
       "      <td>en</td>\n",
       "      <td>[At, the, 1965, World, Championships, ,, with,...</td>\n",
       "      <td>[O, O, O, O, O, O, O, O, O, O, O, O, O, O, O, ...</td>\n",
       "    </tr>\n",
       "  </tbody>\n",
       "</table>\n",
       "</div>"
      ],
      "text/plain": [
       "              id lang                                              words  \\\n",
       "174515  11090409   fa  [سیارک, ۱۲۴۷۲, دوازده, هزار, و, چهارصد, و, هفت...   \n",
       "503141  15875242   en  [He, has, also, written, for, Men, of, a, Cert...   \n",
       "716771  16088872   en  [Its, plan, is, square, and, the, house, has, ...   \n",
       "724382  16096483   en  [Since, then, ,, Rowland, worked, on, a, numbe...   \n",
       "685439  16057540   en  [At, the, 1965, World, Championships, ,, with,...   \n",
       "\n",
       "                                                      ner  \n",
       "174515  [O, O, O, O, O, O, O, O, O, O, O, O, O, O, O, ...  \n",
       "503141  [O, O, O, O, O, O, O, O, O, O, O, O, O, O, O, ...  \n",
       "716771  [O, O, O, O, O, O, O, O, O, O, O, O, O, O, O, ...  \n",
       "724382  [O, O, O, O, O, O, O, O, O, O, O, O, O, O, O, ...  \n",
       "685439  [O, O, O, O, O, O, O, O, O, O, O, O, O, O, O, ...  "
      ]
     },
     "execution_count": 10,
     "metadata": {},
     "output_type": "execute_result"
    }
   ],
   "source": [
    "df.sample(5)"
   ]
  },
  {
   "cell_type": "code",
   "execution_count": 11,
   "id": "5841d8b0",
   "metadata": {},
   "outputs": [
    {
     "name": "stdout",
     "output_type": "stream",
     "text": [
      "<class 'pandas.core.frame.DataFrame'>\n",
      "RangeIndex: 916885 entries, 0 to 916884\n",
      "Data columns (total 4 columns):\n",
      " #   Column  Non-Null Count   Dtype \n",
      "---  ------  --------------   ----- \n",
      " 0   id      916885 non-null  object\n",
      " 1   lang    916885 non-null  object\n",
      " 2   words   916885 non-null  object\n",
      " 3   ner     916885 non-null  object\n",
      "dtypes: object(4)\n",
      "memory usage: 28.0+ MB\n"
     ]
    }
   ],
   "source": [
    "df.info()"
   ]
  },
  {
   "cell_type": "code",
   "execution_count": 17,
   "id": "ee7b6503",
   "metadata": {},
   "outputs": [
    {
     "data": {
      "text/plain": [
       "fa    492903\n",
       "en    423982\n",
       "Name: lang, dtype: int64"
      ]
     },
     "execution_count": 17,
     "metadata": {},
     "output_type": "execute_result"
    }
   ],
   "source": [
    "df['lang'].value_counts()"
   ]
  },
  {
   "cell_type": "code",
   "execution_count": 21,
   "id": "005e659b",
   "metadata": {},
   "outputs": [
    {
     "data": {
      "text/plain": [
       "{'LOC', 'O', 'ORG', 'PER'}"
      ]
     },
     "execution_count": 21,
     "metadata": {},
     "output_type": "execute_result"
    }
   ],
   "source": [
    "unique_tags = set()\n",
    "\n",
    "for tags in df['ner']:\n",
    "    unique_tags.update(tags)\n",
    "\n",
    "unique_tags"
   ]
  },
  {
   "cell_type": "markdown",
   "id": "fa15198c",
   "metadata": {},
   "source": [
    "# Cleaning "
   ]
  },
  {
   "cell_type": "code",
   "execution_count": null,
   "id": "41e4efee",
   "metadata": {},
   "outputs": [],
   "source": []
  }
 ],
 "metadata": {
  "kernelspec": {
   "display_name": "Python [conda env:Pytorch]",
   "language": "python",
   "name": "conda-env-Pytorch-py"
  },
  "language_info": {
   "codemirror_mode": {
    "name": "ipython",
    "version": 3
   },
   "file_extension": ".py",
   "mimetype": "text/x-python",
   "name": "python",
   "nbconvert_exporter": "python",
   "pygments_lexer": "ipython3",
   "version": "3.9.13"
  }
 },
 "nbformat": 4,
 "nbformat_minor": 5
}
