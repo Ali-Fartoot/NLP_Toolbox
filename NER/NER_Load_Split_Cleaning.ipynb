{
 "cells": [
  {
   "cell_type": "markdown",
   "id": "c28cc82b",
   "metadata": {},
   "source": [
    "# Download and Load data"
   ]
  },
  {
   "cell_type": "code",
   "execution_count": 1,
   "id": "a1dc6f5d",
   "metadata": {},
   "outputs": [],
   "source": [
    "from datasets import load_dataset\n",
    "import datasets\n",
    "from pathlib import Path"
   ]
  },
  {
   "cell_type": "code",
   "execution_count": 2,
   "id": "25cf68b7",
   "metadata": {},
   "outputs": [],
   "source": [
    "\n",
    "folder_path = Path(r\"E:\\ML\\NLP_Toolbox\\NER\\polyglot_ner\\combined\\1.0.0\\bb2e45c90cd345c87dfd757c8e2b808b78b0094543b511ac49bc0129699609c1\")\n",
    "data = []\n",
    "for file_path in folder_path.glob(\"*\"):\n",
    "    if file_path.is_file():\n",
    "        data.append(str(file_path.resolve()))\n",
    "data = data[1:]"
   ]
  },
  {
   "cell_type": "code",
   "execution_count": 3,
   "id": "ba7d3c59",
   "metadata": {},
   "outputs": [
    {
     "name": "stderr",
     "output_type": "stream",
     "text": [
      "Found cached dataset arrow (C:/Users/11/.cache/huggingface/datasets/arrow/default-5bc4303e6b42c700/0.0.0/74f69db2c14c2860059d39860b1f400a03d11bf7fb5a8258ca38c501c878c137)\n"
     ]
    }
   ],
   "source": [
    "from datasets import Dataset\n",
    "dataset = load_dataset(\"arrow\", data_files=data,split='train')"
   ]
  },
  {
   "cell_type": "markdown",
   "id": "8884487a",
   "metadata": {},
   "source": [
    "# testing Persian and English corpus"
   ]
  },
  {
   "cell_type": "code",
   "execution_count": 4,
   "id": "3eaa3fcd",
   "metadata": {},
   "outputs": [],
   "source": [
    "from collections import defaultdict\n",
    "from datasets import DatasetDict"
   ]
  },
  {
   "cell_type": "code",
   "execution_count": 5,
   "id": "d437873b",
   "metadata": {},
   "outputs": [
    {
     "name": "stderr",
     "output_type": "stream",
     "text": [
      "Loading cached processed dataset at C:\\Users\\11\\.cache\\huggingface\\datasets\\arrow\\default-5bc4303e6b42c700\\0.0.0\\74f69db2c14c2860059d39860b1f400a03d11bf7fb5a8258ca38c501c878c137\\cache-e7769ddc44ade02a.arrow\n"
     ]
    }
   ],
   "source": [
    "# Define the filter condition\n",
    "filter_condition = lambda example: example[\"lang\"] == \"fa\" or example[\"lang\"] == \"en\"\n",
    "\n",
    "# Apply the filter\n",
    "corpus = dataset.filter(filter_condition)"
   ]
  },
  {
   "cell_type": "code",
   "execution_count": 6,
   "id": "5caff54b",
   "metadata": {},
   "outputs": [],
   "source": [
    "import pandas as pd\n",
    "df = pd.DataFrame(corpus)"
   ]
  },
  {
   "cell_type": "code",
   "execution_count": 7,
   "id": "c733e30c",
   "metadata": {},
   "outputs": [
    {
     "data": {
      "text/html": [
       "<div>\n",
       "<style scoped>\n",
       "    .dataframe tbody tr th:only-of-type {\n",
       "        vertical-align: middle;\n",
       "    }\n",
       "\n",
       "    .dataframe tbody tr th {\n",
       "        vertical-align: top;\n",
       "    }\n",
       "\n",
       "    .dataframe thead th {\n",
       "        text-align: right;\n",
       "    }\n",
       "</style>\n",
       "<table border=\"1\" class=\"dataframe\">\n",
       "  <thead>\n",
       "    <tr style=\"text-align: right;\">\n",
       "      <th></th>\n",
       "      <th>id</th>\n",
       "      <th>lang</th>\n",
       "      <th>words</th>\n",
       "      <th>ner</th>\n",
       "    </tr>\n",
       "  </thead>\n",
       "  <tbody>\n",
       "    <tr>\n",
       "      <th>886646</th>\n",
       "      <td>16258747</td>\n",
       "      <td>en</td>\n",
       "      <td>[Biography, Born, at, the, Royal, Palace, of, ...</td>\n",
       "      <td>[O, O, O, O, O, O, O, PER, O, O, O, O, PER, O,...</td>\n",
       "    </tr>\n",
       "    <tr>\n",
       "      <th>195620</th>\n",
       "      <td>11111514</td>\n",
       "      <td>fa</td>\n",
       "      <td>[تحقیقات, او, در, این, سفر, به, کشف, باسیل, یر...</td>\n",
       "      <td>[O, O, O, O, O, O, O, O, O, O, O, O, O, O, O, O]</td>\n",
       "    </tr>\n",
       "    <tr>\n",
       "      <th>896443</th>\n",
       "      <td>16268544</td>\n",
       "      <td>en</td>\n",
       "      <td>[Distribution, This, species, is, found, only,...</td>\n",
       "      <td>[O, O, O, O, O, O, O, LOC, LOC, LOC, O, LOC, O...</td>\n",
       "    </tr>\n",
       "    <tr>\n",
       "      <th>49550</th>\n",
       "      <td>10965444</td>\n",
       "      <td>fa</td>\n",
       "      <td>[ترجمه, فارسی, آن, اخیراً, در, ایران, منتشر, ش...</td>\n",
       "      <td>[O, O, O, O, O, O, O, O, O, O]</td>\n",
       "    </tr>\n",
       "    <tr>\n",
       "      <th>781098</th>\n",
       "      <td>16153199</td>\n",
       "      <td>en</td>\n",
       "      <td>[Her, best, achievement, in, track, running, i...</td>\n",
       "      <td>[O, O, O, O, O, O, O, O, O, O, O, O, O, O, O, ...</td>\n",
       "    </tr>\n",
       "  </tbody>\n",
       "</table>\n",
       "</div>"
      ],
      "text/plain": [
       "              id lang                                              words  \\\n",
       "886646  16258747   en  [Biography, Born, at, the, Royal, Palace, of, ...   \n",
       "195620  11111514   fa  [تحقیقات, او, در, این, سفر, به, کشف, باسیل, یر...   \n",
       "896443  16268544   en  [Distribution, This, species, is, found, only,...   \n",
       "49550   10965444   fa  [ترجمه, فارسی, آن, اخیراً, در, ایران, منتشر, ش...   \n",
       "781098  16153199   en  [Her, best, achievement, in, track, running, i...   \n",
       "\n",
       "                                                      ner  \n",
       "886646  [O, O, O, O, O, O, O, PER, O, O, O, O, PER, O,...  \n",
       "195620   [O, O, O, O, O, O, O, O, O, O, O, O, O, O, O, O]  \n",
       "896443  [O, O, O, O, O, O, O, LOC, LOC, LOC, O, LOC, O...  \n",
       "49550                      [O, O, O, O, O, O, O, O, O, O]  \n",
       "781098  [O, O, O, O, O, O, O, O, O, O, O, O, O, O, O, ...  "
      ]
     },
     "execution_count": 7,
     "metadata": {},
     "output_type": "execute_result"
    }
   ],
   "source": [
    "df.sample(5)"
   ]
  },
  {
   "cell_type": "code",
   "execution_count": 8,
   "id": "5841d8b0",
   "metadata": {},
   "outputs": [
    {
     "name": "stdout",
     "output_type": "stream",
     "text": [
      "<class 'pandas.core.frame.DataFrame'>\n",
      "RangeIndex: 916885 entries, 0 to 916884\n",
      "Data columns (total 4 columns):\n",
      " #   Column  Non-Null Count   Dtype \n",
      "---  ------  --------------   ----- \n",
      " 0   id      916885 non-null  object\n",
      " 1   lang    916885 non-null  object\n",
      " 2   words   916885 non-null  object\n",
      " 3   ner     916885 non-null  object\n",
      "dtypes: object(4)\n",
      "memory usage: 28.0+ MB\n"
     ]
    }
   ],
   "source": [
    "df.info()"
   ]
  },
  {
   "cell_type": "code",
   "execution_count": 9,
   "id": "ee7b6503",
   "metadata": {},
   "outputs": [
    {
     "data": {
      "text/plain": [
       "fa    492903\n",
       "en    423982\n",
       "Name: lang, dtype: int64"
      ]
     },
     "execution_count": 9,
     "metadata": {},
     "output_type": "execute_result"
    }
   ],
   "source": [
    "df['lang'].value_counts()"
   ]
  },
  {
   "cell_type": "code",
   "execution_count": 10,
   "id": "005e659b",
   "metadata": {},
   "outputs": [
    {
     "data": {
      "text/plain": [
       "{'a', 'e', 'f', 'n'}"
      ]
     },
     "execution_count": 10,
     "metadata": {},
     "output_type": "execute_result"
    }
   ],
   "source": [
    "unique_tags = set()\n",
    "\n",
    "for tags in df['lang']:\n",
    "    unique_tags.update(tags)\n",
    "\n",
    "unique_tags"
   ]
  },
  {
   "cell_type": "code",
   "execution_count": 11,
   "id": "abc8765b",
   "metadata": {},
   "outputs": [],
   "source": [
    "df_per = df.loc[df['lang']==\"fa\"]"
   ]
  },
  {
   "cell_type": "code",
   "execution_count": 12,
   "id": "4d5aa487",
   "metadata": {},
   "outputs": [],
   "source": [
    "df_en = df.loc[df['lang']==\"en\"]"
   ]
  },
  {
   "cell_type": "code",
   "execution_count": 13,
   "id": "9f4a951e",
   "metadata": {},
   "outputs": [
    {
     "name": "stdout",
     "output_type": "stream",
     "text": [
      "جستارهای وابسته منابع\n",
      "O,O,O\n"
     ]
    }
   ],
   "source": [
    "from random import randint\n",
    "rnd = randint(0,len(df_per))\n",
    "print(\" \".join(df_per.iloc[rnd][\"words\"]))\n",
    "print(\",\".join(df_per.iloc[rnd][\"ner\"]))"
   ]
  },
  {
   "cell_type": "code",
   "execution_count": 14,
   "id": "2da2d522",
   "metadata": {},
   "outputs": [
    {
     "name": "stdout",
     "output_type": "stream",
     "text": [
      "Faulkner was selected for the South African tour of the United Kingdom in 1907 and his mastery of googly bowling , along with that of his team mates Reginald Schwarz , Bert Vogler and Gordon White , had a significant effect on the acceptance of wrist spin as an effective bowling weapon .\n",
      "PER,O,O,O,O,O,O,O,O,O,LOC,LOC,O,O,O,O,O,O,O,O,O,O,O,O,O,O,O,O,PER,PER,O,PER,PER,O,PER,PER,O,O,O,O,O,O,O,O,O,O,O,O,O,O,O,O,O\n"
     ]
    }
   ],
   "source": [
    "from random import randint\n",
    "rnd = randint(0,len(df_en))\n",
    "print(\" \".join(df_en.iloc[rnd][\"words\"]))\n",
    "print(\",\".join(df_en.iloc[rnd][\"ner\"]))"
   ]
  },
  {
   "cell_type": "code",
   "execution_count": 15,
   "id": "d9ce6a30",
   "metadata": {},
   "outputs": [
    {
     "data": {
      "text/html": [
       "<div>\n",
       "<style scoped>\n",
       "    .dataframe tbody tr th:only-of-type {\n",
       "        vertical-align: middle;\n",
       "    }\n",
       "\n",
       "    .dataframe tbody tr th {\n",
       "        vertical-align: top;\n",
       "    }\n",
       "\n",
       "    .dataframe thead th {\n",
       "        text-align: right;\n",
       "    }\n",
       "</style>\n",
       "<table border=\"1\" class=\"dataframe\">\n",
       "  <thead>\n",
       "    <tr style=\"text-align: right;\">\n",
       "      <th></th>\n",
       "      <th>0</th>\n",
       "    </tr>\n",
       "  </thead>\n",
       "  <tbody>\n",
       "    <tr>\n",
       "      <th>LOC</th>\n",
       "      <td>529168</td>\n",
       "    </tr>\n",
       "    <tr>\n",
       "      <th>PER</th>\n",
       "      <td>347971</td>\n",
       "    </tr>\n",
       "    <tr>\n",
       "      <th>ORG</th>\n",
       "      <td>314055</td>\n",
       "    </tr>\n",
       "  </tbody>\n",
       "</table>\n",
       "</div>"
      ],
      "text/plain": [
       "          0\n",
       "LOC  529168\n",
       "PER  347971\n",
       "ORG  314055"
      ]
     },
     "execution_count": 15,
     "metadata": {},
     "output_type": "execute_result"
    }
   ],
   "source": [
    "counter = {}\n",
    "for row in df[\"ner\"]:\n",
    "     for tag in row:\n",
    "        if tag != \"O\":\n",
    "            if tag not in counter.keys():\n",
    "                 counter[tag] = 1\n",
    "            else:\n",
    "                 counter[tag]  = counter[tag]  + 1\n",
    "                \n",
    "    \n",
    "pd.DataFrame.from_dict(counter, orient=\"index\")"
   ]
  },
  {
   "cell_type": "code",
   "execution_count": 16,
   "id": "ebb737e0",
   "metadata": {},
   "outputs": [
    {
     "name": "stdout",
     "output_type": "stream",
     "text": [
      "['۳', ')', 'انتشاردر', 'این', 'مکانیزم', 'نتیجه', 'عملکرد', 'فیلتر', 'بطرز', 'چشمگیری', 'افزایش', 'می', 'یابد', '.', 'در', 'اثر', 'تصادم', 'مولکول', 'های', 'گازی', 'با', 'ذرات', 'معلق', 'بسیار', 'کوچک', '(', 'کمتر', 'از', '۰', '/', '۱', 'میکرون', ')', 'جهت', 'حرکت', 'ذرات', 'معلق', 'در', 'داخل', 'فیلتر', 'تغییر', 'کرده', 'و', 'سرعت', 'اش', 'نیز', 'کاهش', 'می', 'یابد', 'و', 'همین', 'تأخیر', 'باعث', 'بالا', 'رفتن', 'احتمال', 'توقف', 'و', 'گیرکردن', 'ذره', 'معلق', 'در', 'درون', 'فیلتر', 'می', 'شود', '.(', 'قابل', 'مقایسه', 'باپدیده', 'فیزیکی', '\"', 'حرکت', 'بروانین', '\")', 'این', 'روش', 'در', 'جذب', 'ذرات', 'با', 'قطر', 'کمتر', 'از', '۰', '/', '۱', 'میکرون', 'روش', 'برتر', 'می', 'باشد.همانطور', 'که', 'دو', 'روش', 'تراکم', 'و', 'مسدود', 'کردن', 'در', 'جذب', 'ذرات', 'بالاتر', 'از', '۰', '/', '۴', 'میکرون', 'مؤثر', 'می', 'باشند.ذرات', 'بین', 'این', 'دو', 'اندازه', 'بیشترین', 'نفوذ', 'را', 'در', 'فیلتر', 'می', 'کنند', '(', '۰', '/', '۳', 'میکرون', ')', 'که', 'توأماً', 'توسط', 'هر', 'سه', 'عامل', 'به', 'کمک', 'هم', 'در', 'فیلتر', 'گیر', 'می', 'افتند', '.']\n"
     ]
    }
   ],
   "source": [
    "for row in df[\"words\"]:\n",
    "    print(row)\n",
    "    break"
   ]
  },
  {
   "cell_type": "markdown",
   "id": "8005d1d5",
   "metadata": {},
   "source": [
    "## Split data"
   ]
  },
  {
   "cell_type": "code",
   "execution_count": 17,
   "id": "50dd83a1",
   "metadata": {},
   "outputs": [
    {
     "name": "stderr",
     "output_type": "stream",
     "text": [
      "Loading cached processed dataset at C:\\Users\\11\\.cache\\huggingface\\datasets\\arrow\\default-5bc4303e6b42c700\\0.0.0\\74f69db2c14c2860059d39860b1f400a03d11bf7fb5a8258ca38c501c878c137\\cache-822c5d6a012fbc65.arrow\n",
      "Loading cached processed dataset at C:\\Users\\11\\.cache\\huggingface\\datasets\\arrow\\default-5bc4303e6b42c700\\0.0.0\\74f69db2c14c2860059d39860b1f400a03d11bf7fb5a8258ca38c501c878c137\\cache-e5244abdbe194ace.arrow\n"
     ]
    }
   ],
   "source": [
    "filter_persian_condition = lambda example: example[\"lang\"] == \"fa\"\n",
    "filter_english_condition  = lambda example: example[\"lang\"] == \"en\"\n",
    "\n",
    "persian = dataset.filter(filter_persian_condition)\n",
    "english = dataset.filter(filter_english_condition)"
   ]
  },
  {
   "cell_type": "code",
   "execution_count": 18,
   "id": "570b0a04",
   "metadata": {},
   "outputs": [
    {
     "data": {
      "text/plain": [
       "916885"
      ]
     },
     "execution_count": 18,
     "metadata": {},
     "output_type": "execute_result"
    }
   ],
   "source": [
    "len(persian) + len(english)"
   ]
  },
  {
   "cell_type": "code",
   "execution_count": 19,
   "id": "0002059a",
   "metadata": {},
   "outputs": [],
   "source": [
    "persian_spllited = persian.train_test_split(test_size=0.2)\n",
    "english_spllited = english.train_test_split(test_size=0.2)\n",
    "\n",
    "train = datasets.concatenate_datasets([persian_spllited['train'], english_spllited['train']])\n",
    "test = datasets.concatenate_datasets([persian_spllited['test'], english_spllited['test']])"
   ]
  },
  {
   "cell_type": "code",
   "execution_count": 20,
   "id": "14e3def2",
   "metadata": {},
   "outputs": [
    {
     "data": {
      "text/plain": [
       "Dataset({\n",
       "    features: ['id', 'lang', 'words', 'ner'],\n",
       "    num_rows: 733507\n",
       "})"
      ]
     },
     "execution_count": 20,
     "metadata": {},
     "output_type": "execute_result"
    }
   ],
   "source": [
    "train"
   ]
  },
  {
   "cell_type": "code",
   "execution_count": 21,
   "id": "6b186365",
   "metadata": {},
   "outputs": [
    {
     "data": {
      "text/plain": [
       "Dataset({\n",
       "    features: ['id', 'lang', 'words', 'ner'],\n",
       "    num_rows: 183378\n",
       "})"
      ]
     },
     "execution_count": 21,
     "metadata": {},
     "output_type": "execute_result"
    }
   ],
   "source": [
    "test"
   ]
  },
  {
   "cell_type": "code",
   "execution_count": 75,
   "id": "dee2894a",
   "metadata": {},
   "outputs": [
    {
     "data": {
      "text/plain": [
       "916885"
      ]
     },
     "execution_count": 75,
     "metadata": {},
     "output_type": "execute_result"
    }
   ],
   "source": [
    "len(test) + len(train)"
   ]
  },
  {
   "cell_type": "markdown",
   "id": "fa15198c",
   "metadata": {},
   "source": [
    "# Check and save dataset "
   ]
  },
  {
   "cell_type": "code",
   "execution_count": 82,
   "id": "cb4e0459",
   "metadata": {},
   "outputs": [],
   "source": [
    "df = pd.DataFrame(train)"
   ]
  },
  {
   "cell_type": "code",
   "execution_count": 107,
   "id": "41e4efee",
   "metadata": {},
   "outputs": [
    {
     "name": "stdout",
     "output_type": "stream",
     "text": [
      "While Ann contemplates switching to the cosmetics business , LeTour , who suffers from insomnia , has lost his perspective in life .\n",
      "O,O,O,O,O,O,O,O,O,O,O,O,O,O,O,O,O,O,O,O,O,O,O\n"
     ]
    }
   ],
   "source": [
    "from random import randint\n",
    "rnd = randint(0,len(df))\n",
    "print(\" \".join(df.iloc[rnd][\"words\"]))\n",
    "print(\",\".join(df.iloc[rnd][\"ner\"]))"
   ]
  },
  {
   "cell_type": "code",
   "execution_count": 108,
   "id": "9c66c889",
   "metadata": {},
   "outputs": [
    {
     "data": {
      "application/vnd.jupyter.widget-view+json": {
       "model_id": "",
       "version_major": 2,
       "version_minor": 0
      },
      "text/plain": [
       "Saving the dataset (0/1 shards):   0%|          | 0/733507 [00:00<?, ? examples/s]"
      ]
     },
     "metadata": {},
     "output_type": "display_data"
    },
    {
     "data": {
      "application/vnd.jupyter.widget-view+json": {
       "model_id": "",
       "version_major": 2,
       "version_minor": 0
      },
      "text/plain": [
       "Saving the dataset (0/1 shards):   0%|          | 0/183378 [00:00<?, ? examples/s]"
      ]
     },
     "metadata": {},
     "output_type": "display_data"
    }
   ],
   "source": [
    "train.save_to_disk(\"train.hf\")\n",
    "test.save_to_disk(\"test.hf\")"
   ]
  },
  {
   "cell_type": "markdown",
   "id": "63f12cea",
   "metadata": {},
   "source": [
    "# Creating 25k sentences corpus for trainin ( 12.5K Persian, 12.5K English)"
   ]
  },
  {
   "cell_type": "code",
   "execution_count": 36,
   "id": "365df426",
   "metadata": {},
   "outputs": [
    {
     "name": "stderr",
     "output_type": "stream",
     "text": [
      "Found cached dataset arrow (C:/Users/11/.cache/huggingface/datasets/arrow/default-5bc4303e6b42c700/0.0.0/74f69db2c14c2860059d39860b1f400a03d11bf7fb5a8258ca38c501c878c137)\n"
     ]
    }
   ],
   "source": [
    "from datasets import Dataset\n",
    "dataset = load_dataset(\"arrow\", data_files=data,split='train')"
   ]
  },
  {
   "cell_type": "code",
   "execution_count": 37,
   "id": "70058f1d",
   "metadata": {},
   "outputs": [
    {
     "name": "stderr",
     "output_type": "stream",
     "text": [
      "Loading cached processed dataset at C:\\Users\\11\\.cache\\huggingface\\datasets\\arrow\\default-5bc4303e6b42c700\\0.0.0\\74f69db2c14c2860059d39860b1f400a03d11bf7fb5a8258ca38c501c878c137\\cache-822c5d6a012fbc65.arrow\n",
      "Loading cached processed dataset at C:\\Users\\11\\.cache\\huggingface\\datasets\\arrow\\default-5bc4303e6b42c700\\0.0.0\\74f69db2c14c2860059d39860b1f400a03d11bf7fb5a8258ca38c501c878c137\\cache-e5244abdbe194ace.arrow\n"
     ]
    }
   ],
   "source": [
    "filter_persian_condition = lambda example: example[\"lang\"] == \"fa\"\n",
    "filter_english_condition  = lambda example: example[\"lang\"] == \"en\"\n",
    "\n",
    "persian = dataset.filter(filter_persian_condition)\n",
    "english = dataset.filter(filter_english_condition)"
   ]
  },
  {
   "cell_type": "code",
   "execution_count": 38,
   "id": "ea6e4220",
   "metadata": {},
   "outputs": [],
   "source": [
    "def ratio_tagging(example):\n",
    "    example['ratio'] = 1 - (example['ner'].count(\"O\") / len(example['ner']))\n",
    "    return example"
   ]
  },
  {
   "cell_type": "code",
   "execution_count": 39,
   "id": "b9d034e7",
   "metadata": {},
   "outputs": [
    {
     "name": "stderr",
     "output_type": "stream",
     "text": [
      "Loading cached processed dataset at C:\\Users\\11\\.cache\\huggingface\\datasets\\arrow\\default-5bc4303e6b42c700\\0.0.0\\74f69db2c14c2860059d39860b1f400a03d11bf7fb5a8258ca38c501c878c137\\cache-d5fc78385a1b42b0.arrow\n",
      "Loading cached processed dataset at C:\\Users\\11\\.cache\\huggingface\\datasets\\arrow\\default-5bc4303e6b42c700\\0.0.0\\74f69db2c14c2860059d39860b1f400a03d11bf7fb5a8258ca38c501c878c137\\cache-03013e4aa6bcac5f.arrow\n"
     ]
    }
   ],
   "source": [
    "persian_ratio = persian.map(ratio_tagging)\n",
    "english_ratio = english.map(ratio_tagging)"
   ]
  },
  {
   "cell_type": "code",
   "execution_count": 40,
   "id": "1b1de1c6",
   "metadata": {},
   "outputs": [],
   "source": [
    "import pandas as pd\n",
    "persian_ratio_dataframe = pd.DataFrame(persian_ratio['ratio'])"
   ]
  },
  {
   "cell_type": "code",
   "execution_count": 41,
   "id": "c31981ad",
   "metadata": {},
   "outputs": [
    {
     "data": {
      "text/plain": [
       "array([[<AxesSubplot:title={'center':'0'}>]], dtype=object)"
      ]
     },
     "execution_count": 41,
     "metadata": {},
     "output_type": "execute_result"
    },
    {
     "data": {
      "image/png": "[encoded data removed]",
      "text/plain": [
       "<Figure size 640x480 with 1 Axes>"
      ]
     },
     "metadata": {},
     "output_type": "display_data"
    }
   ],
   "source": [
    "persian_ratio_dataframe.hist()"
   ]
  },
  {
   "cell_type": "code",
   "execution_count": 42,
   "id": "24c59b94",
   "metadata": {},
   "outputs": [
    {
     "data": {
      "image/png": "[encoded data removed]",
      "text/plain": [
       "<Figure size 640x480 with 1 Axes>"
      ]
     },
     "metadata": {},
     "output_type": "display_data"
    }
   ],
   "source": [
    "english_ratio_dataframe = pd.DataFrame(english_ratio['ratio']).hist()"
   ]
  },
  {
   "cell_type": "code",
   "execution_count": 43,
   "id": "8d3ca4ef",
   "metadata": {},
   "outputs": [],
   "source": [
    "from datasets import concatenate_datasets\n",
    "from random import sample\n",
    "def create_uniformed_ratio(data, length):\n",
    "    zero_ratio_indices = [i for i, example in enumerate(data) if example['ratio'] == 0.0]\n",
    "    zero_point_one_ratio_indices = [i for i, example in enumerate(data) if  0.0 < example['ratio'] < 0.1]\n",
    "    zero_point_two_ratio_indices = [i for i, example in enumerate(data) if  0.1<= example['ratio'] < 0.25]\n",
    "    zero_point_four_ratio_indices = [i for i, example in enumerate(data) if 0.25 <= example['ratio'] ]\n",
    "    \n",
    "    zero_ratio_indices = sample(zero_ratio_indices,length )\n",
    "    zero_point_one_ratio_indices = sample(zero_point_one_ratio_indices,length)\n",
    "    zero_point_two_ratio_indices = sample(zero_point_two_ratio_indices,length)\n",
    "    zero_point_four_ratio_indices = sample(zero_point_four_ratio_indices,length)\n",
    "                                              \n",
    "    zero_ratio_examples = data.select(zero_ratio_indices)\n",
    "    zero_point_one_ratio_examples = data.select(zero_point_one_ratio_indices)\n",
    "    zero_point_two_ratio_examples = data.select(zero_point_two_ratio_indices)\n",
    "    zero_point_four_ratio_examples = data.select(zero_point_four_ratio_indices)\n",
    "    \n",
    "\n",
    "    return concatenate_datasets([zero_ratio_examples, zero_point_one_ratio_examples ,zero_point_two_ratio_examples, zero_point_four_ratio_examples])\n"
   ]
  },
  {
   "cell_type": "code",
   "execution_count": 44,
   "id": "96cd2d7d",
   "metadata": {},
   "outputs": [],
   "source": [
    "persian_ratio_2k = create_uniformed_ratio(persian_ratio,3125)\n",
    "english_ratio_2k = create_uniformed_ratio(english_ratio,3125)"
   ]
  },
  {
   "cell_type": "code",
   "execution_count": 45,
   "id": "91b0b721",
   "metadata": {},
   "outputs": [
    {
     "data": {
      "text/plain": [
       "array([[<AxesSubplot:title={'center':'0'}>]], dtype=object)"
      ]
     },
     "execution_count": 45,
     "metadata": {},
     "output_type": "execute_result"
    },
    {
     "data": {
      "image/png": "[encoded data removed]",
      "text/plain": [
       "<Figure size 640x480 with 1 Axes>"
      ]
     },
     "metadata": {},
     "output_type": "display_data"
    }
   ],
   "source": [
    "pd.DataFrame(persian_ratio_2k['ratio']).hist()"
   ]
  },
  {
   "cell_type": "code",
   "execution_count": 46,
   "id": "733b3e09",
   "metadata": {},
   "outputs": [
    {
     "data": {
      "text/plain": [
       "array([[<AxesSubplot:title={'center':'0'}>]], dtype=object)"
      ]
     },
     "execution_count": 46,
     "metadata": {},
     "output_type": "execute_result"
    },
    {
     "data": {
      "image/png": "[encoded data removed]",
      "text/plain": [
       "<Figure size 640x480 with 1 Axes>"
      ]
     },
     "metadata": {},
     "output_type": "display_data"
    }
   ],
   "source": [
    "pd.DataFrame(english_ratio_2k['ratio']).hist()"
   ]
  },
  {
   "cell_type": "code",
   "execution_count": 47,
   "id": "d5c93935",
   "metadata": {},
   "outputs": [
    {
     "data": {
      "text/plain": [
       "(Dataset({\n",
       "     features: ['id', 'lang', 'words', 'ner', 'ratio'],\n",
       "     num_rows: 12500\n",
       " }),\n",
       " Dataset({\n",
       "     features: ['id', 'lang', 'words', 'ner', 'ratio'],\n",
       "     num_rows: 12500\n",
       " }))"
      ]
     },
     "execution_count": 47,
     "metadata": {},
     "output_type": "execute_result"
    }
   ],
   "source": [
    "persian_ratio_2k, english_ratio_2k"
   ]
  },
  {
   "cell_type": "code",
   "execution_count": 48,
   "id": "0fb35433",
   "metadata": {},
   "outputs": [],
   "source": [
    "persian_spllited = persian_ratio_2k.train_test_split(test_size=0.2)\n",
    "english_spllited = english_ratio_2k.train_test_split(test_size=0.2)\n",
    "\n",
    "train = datasets.concatenate_datasets([persian_spllited['train'], english_spllited['train']])\n",
    "test = datasets.concatenate_datasets([persian_spllited['test'], english_spllited['test']])"
   ]
  },
  {
   "cell_type": "code",
   "execution_count": 50,
   "id": "62bb0476",
   "metadata": {},
   "outputs": [
    {
     "data": {
      "application/vnd.jupyter.widget-view+json": {
       "model_id": "",
       "version_major": 2,
       "version_minor": 0
      },
      "text/plain": [
       "Saving the dataset (0/1 shards):   0%|          | 0/20000 [00:00<?, ? examples/s]"
      ]
     },
     "metadata": {},
     "output_type": "display_data"
    },
    {
     "data": {
      "application/vnd.jupyter.widget-view+json": {
       "model_id": "",
       "version_major": 2,
       "version_minor": 0
      },
      "text/plain": [
       "Saving the dataset (0/1 shards):   0%|          | 0/5000 [00:00<?, ? examples/s]"
      ]
     },
     "metadata": {},
     "output_type": "display_data"
    }
   ],
   "source": [
    "train.save_to_disk(\"train_25K.hf\")\n",
    "test.save_to_disk(\"test_25K.hf\")"
   ]
  }
 ],
 "metadata": {
  "kernelspec": {
   "display_name": "Python [conda env:Pytorch]",
   "language": "python",
   "name": "conda-env-Pytorch-py"
  },
  "language_info": {
   "codemirror_mode": {
    "name": "ipython",
    "version": 3
   },
   "file_extension": ".py",
   "mimetype": "text/x-python",
   "name": "python",
   "nbconvert_exporter": "python",
   "pygments_lexer": "ipython3",
   "version": "3.9.13"
  }
 },
 "nbformat": 4,
 "nbformat_minor": 5
}
