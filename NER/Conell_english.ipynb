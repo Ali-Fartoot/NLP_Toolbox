{
 "cells": [
  {
   "cell_type": "markdown",
   "id": "92a643e5",
   "metadata": {},
   "source": [
    "# Download and load dataset"
   ]
  },
  {
   "cell_type": "code",
   "execution_count": 63,
   "id": "bf8dbe32",
   "metadata": {},
   "outputs": [
    {
     "name": "stderr",
     "output_type": "stream",
     "text": [
      "Found cached dataset conll2003 (C:/Users/11/.cache/huggingface/datasets/conll2003/conll2003/1.0.0/9a4d16a94f8674ba3466315300359b0acd891b68b6c8743ddf60b9c702adce98)\n"
     ]
    },
    {
     "data": {
      "application/vnd.jupyter.widget-view+json": {
       "model_id": "42989e9e53ea438eb92863f0244f1e09",
       "version_major": 2,
       "version_minor": 0
      },
      "text/plain": [
       "  0%|          | 0/3 [00:00<?, ?it/s]"
      ]
     },
     "metadata": {},
     "output_type": "display_data"
    }
   ],
   "source": [
    "from datasets import load_dataset,Dataset, load_from_disk ,concatenate_datasets, DatasetDict , Sequence , Value , Features , ClassLabel\n",
    "conll = load_dataset(\"conll2003\")"
   ]
  },
  {
   "cell_type": "code",
   "execution_count": 64,
   "id": "e83095df",
   "metadata": {},
   "outputs": [
    {
     "data": {
      "text/plain": [
       "['O', 'B-PER', 'I-PER', 'B-ORG', 'I-ORG', 'B-LOC', 'I-LOC', 'B-MISC', 'I-MISC']"
      ]
     },
     "execution_count": 64,
     "metadata": {},
     "output_type": "execute_result"
    }
   ],
   "source": [
    "conll['train'].features['ner_tags'].feature.names"
   ]
  },
  {
   "cell_type": "code",
   "execution_count": 65,
   "id": "886854c1",
   "metadata": {},
   "outputs": [],
   "source": [
    "# convert each label to it's number\n",
    "tags = ['O', 'B-PER', 'I-PER', 'B-ORG', 'I-ORG', 'B-LOC', 'I-LOC', 'B-MISC', 'I-MISC']\n",
    "tags_names = ClassLabel(num_classes=len(tags) , names=tags)\n",
    "def create_tag_names(batch):\n",
    "    \"\"\"\n",
    "   Convert each number label to its value for improve readability\n",
    "                                           and return new column\n",
    "    \"\"\"\n",
    "    return {'ner_tags_names' : [tags_names.int2str(idx) for idx in batch['ner_tags']]}"
   ]
  },
  {
   "cell_type": "code",
   "execution_count": 66,
   "id": "f37c265a",
   "metadata": {},
   "outputs": [
    {
     "name": "stderr",
     "output_type": "stream",
     "text": [
      "Loading cached processed dataset at C:\\Users\\11\\.cache\\huggingface\\datasets\\conll2003\\conll2003\\1.0.0\\9a4d16a94f8674ba3466315300359b0acd891b68b6c8743ddf60b9c702adce98\\cache-5e807906eac5bcfd.arrow\n",
      "Loading cached processed dataset at C:\\Users\\11\\.cache\\huggingface\\datasets\\conll2003\\conll2003\\1.0.0\\9a4d16a94f8674ba3466315300359b0acd891b68b6c8743ddf60b9c702adce98\\cache-b068e7a3ef702cd1.arrow\n",
      "Loading cached processed dataset at C:\\Users\\11\\.cache\\huggingface\\datasets\\conll2003\\conll2003\\1.0.0\\9a4d16a94f8674ba3466315300359b0acd891b68b6c8743ddf60b9c702adce98\\cache-e33a7f87947c4ce6.arrow\n"
     ]
    }
   ],
   "source": [
    "conll = conll.map(create_tag_names)"
   ]
  },
  {
   "cell_type": "markdown",
   "id": "f2c9f491",
   "metadata": {},
   "source": [
    "# Aligning"
   ]
  },
  {
   "cell_type": "markdown",
   "id": "fa8138ce",
   "metadata": {},
   "source": [
    "## Remove MISC tags to aligin data"
   ]
  },
  {
   "cell_type": "code",
   "execution_count": 67,
   "id": "baaa9bfe",
   "metadata": {},
   "outputs": [
    {
     "data": {
      "text/plain": [
       "['B-ORG', 'O', 'B-MISC', 'O', 'O', 'O', 'B-MISC', 'O', 'O']"
      ]
     },
     "execution_count": 67,
     "metadata": {},
     "output_type": "execute_result"
    }
   ],
   "source": [
    "conll['train']['ner_tags_names'][0]"
   ]
  },
  {
   "cell_type": "code",
   "execution_count": 68,
   "id": "2198be14",
   "metadata": {},
   "outputs": [],
   "source": [
    "def remove_tags(example):\n",
    "    non_related_tags = set(['B-MISC', 'I-MISC'])\n",
    "    if any(tag in non_related_tags for tag in example):\n",
    "        return None\n",
    "    else:\n",
    "        return example"
   ]
  },
  {
   "cell_type": "code",
   "execution_count": 69,
   "id": "39dd38d7",
   "metadata": {},
   "outputs": [],
   "source": [
    "import pandas\n",
    "df_train = conll['train'].to_pandas()\n",
    "df_test = conll['test'].to_pandas()\n",
    "df_valid = conll['validation'].to_pandas()"
   ]
  },
  {
   "cell_type": "code",
   "execution_count": 70,
   "id": "41422277",
   "metadata": {},
   "outputs": [],
   "source": [
    "# Apply the remove_tags function to the DataFrame\n",
    "df_train['ner_tags_names'] = df_train['ner_tags_names'].apply(remove_tags)\n",
    "df_test['ner_tags_names'] = df_test['ner_tags_names'].apply(remove_tags)\n",
    "df_valid['ner_tags_names'] = df_valid['ner_tags_names'].apply(remove_tags)\n",
    "\n",
    "# Remove rows with None values\n",
    "df_train = df_train.dropna()\n",
    "df_valid = df_valid.dropna()\n",
    "df_test = df_test.dropna()"
   ]
  },
  {
   "cell_type": "code",
   "execution_count": 71,
   "id": "d6757f54",
   "metadata": {},
   "outputs": [
    {
     "data": {
      "text/plain": [
       "{'B-LOC', 'B-ORG', 'B-PER', 'I-LOC', 'I-ORG', 'I-PER', 'O'}"
      ]
     },
     "execution_count": 71,
     "metadata": {},
     "output_type": "execute_result"
    }
   ],
   "source": [
    "res = []\n",
    "for tags in df_train['ner_tags_names']:\n",
    "    for tag in tags:\n",
    "        res.append(tag)\n",
    "set(res)"
   ]
  },
  {
   "cell_type": "code",
   "execution_count": 72,
   "id": "988c916b",
   "metadata": {},
   "outputs": [],
   "source": [
    "filtered_conill = DatasetDict()\n",
    "filtered_conill['train'] = Dataset.from_pandas(df_train)\n",
    "filtered_conill['test'] = Dataset.from_pandas(df_test)\n",
    "filtered_conill['validation'] = Dataset.from_pandas(df_valid)"
   ]
  },
  {
   "cell_type": "code",
   "execution_count": 73,
   "id": "58819a3b",
   "metadata": {},
   "outputs": [
    {
     "data": {
      "text/plain": [
       "DatasetDict({\n",
       "    train: Dataset({\n",
       "        features: ['id', 'tokens', 'pos_tags', 'chunk_tags', 'ner_tags', 'ner_tags_names', '__index_level_0__'],\n",
       "        num_rows: 11343\n",
       "    })\n",
       "    test: Dataset({\n",
       "        features: ['id', 'tokens', 'pos_tags', 'chunk_tags', 'ner_tags', 'ner_tags_names', '__index_level_0__'],\n",
       "        num_rows: 2890\n",
       "    })\n",
       "    validation: Dataset({\n",
       "        features: ['id', 'tokens', 'pos_tags', 'chunk_tags', 'ner_tags', 'ner_tags_names', '__index_level_0__'],\n",
       "        num_rows: 2555\n",
       "    })\n",
       "})"
      ]
     },
     "execution_count": 73,
     "metadata": {},
     "output_type": "execute_result"
    }
   ],
   "source": [
    "filtered_conill"
   ]
  },
  {
   "cell_type": "code",
   "execution_count": 74,
   "id": "54a475d4",
   "metadata": {},
   "outputs": [],
   "source": [
    "# remove additional columns\n",
    "filtered_conill['train'] = filtered_conill['train'].remove_columns(['__index_level_0__','pos_tags','chunk_tags','id'])\n",
    "filtered_conill['test'] = filtered_conill['test'].remove_columns(['__index_level_0__','pos_tags','chunk_tags','id'])\n",
    "filtered_conill['validation'] = filtered_conill['validation'].remove_columns(['__index_level_0__','pos_tags','chunk_tags','id'])"
   ]
  },
  {
   "cell_type": "code",
   "execution_count": 79,
   "id": "9b813657",
   "metadata": {},
   "outputs": [
    {
     "data": {
      "application/vnd.jupyter.widget-view+json": {
       "model_id": "",
       "version_major": 2,
       "version_minor": 0
      },
      "text/plain": [
       "Saving the dataset (0/1 shards):   0%|          | 0/11343 [00:00<?, ? examples/s]"
      ]
     },
     "metadata": {},
     "output_type": "display_data"
    },
    {
     "data": {
      "application/vnd.jupyter.widget-view+json": {
       "model_id": "",
       "version_major": 2,
       "version_minor": 0
      },
      "text/plain": [
       "Saving the dataset (0/1 shards):   0%|          | 0/2890 [00:00<?, ? examples/s]"
      ]
     },
     "metadata": {},
     "output_type": "display_data"
    },
    {
     "data": {
      "application/vnd.jupyter.widget-view+json": {
       "model_id": "",
       "version_major": 2,
       "version_minor": 0
      },
      "text/plain": [
       "Saving the dataset (0/1 shards):   0%|          | 0/2555 [00:00<?, ? examples/s]"
      ]
     },
     "metadata": {},
     "output_type": "display_data"
    }
   ],
   "source": [
    "filtered_conill.save_to_disk(\"Conell_en.hf\")"
   ]
  },
  {
   "cell_type": "code",
   "execution_count": 80,
   "id": "804048c6",
   "metadata": {},
   "outputs": [
    {
     "data": {
      "text/plain": [
       "DatasetDict({\n",
       "    train: Dataset({\n",
       "        features: ['tokens', 'ner_tags', 'ner_tags_names'],\n",
       "        num_rows: 11343\n",
       "    })\n",
       "    test: Dataset({\n",
       "        features: ['tokens', 'ner_tags', 'ner_tags_names'],\n",
       "        num_rows: 2890\n",
       "    })\n",
       "    validation: Dataset({\n",
       "        features: ['tokens', 'ner_tags', 'ner_tags_names'],\n",
       "        num_rows: 2555\n",
       "    })\n",
       "})"
      ]
     },
     "execution_count": 80,
     "metadata": {},
     "output_type": "execute_result"
    }
   ],
   "source": [
    "filtered_conill"
   ]
  }
 ],
 "metadata": {
  "kernelspec": {
   "display_name": "Python [conda env:Pytorch]",
   "language": "python",
   "name": "conda-env-Pytorch-py"
  },
  "language_info": {
   "codemirror_mode": {
    "name": "ipython",
    "version": 3
   },
   "file_extension": ".py",
   "mimetype": "text/x-python",
   "name": "python",
   "nbconvert_exporter": "python",
   "pygments_lexer": "ipython3",
   "version": "3.9.13"
  }
 },
 "nbformat": 4,
 "nbformat_minor": 5
}
