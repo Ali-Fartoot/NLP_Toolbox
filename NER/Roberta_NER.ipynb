{
 "cells": [
  {
   "cell_type": "code",
   "execution_count": 1,
   "id": "ac012635",
   "metadata": {},
   "outputs": [],
   "source": [
    "import os\n",
    "import pandas as pd\n",
    "from collections import defaultdict , Counter\n",
    "import torch\n",
    "import torch.nn as nn\n",
    "from torch.nn.functional import cross_entropy\n",
    "from datasets import Dataset , DatasetDict , Sequence , Value , Features , ClassLabel\n",
    "from transformers import AutoTokenizer , XLMRobertaConfig , AutoConfig , TrainingArguments , DataCollatorForTokenClassification , Trainer\n",
    "from transformers.modeling_outputs import TokenClassifierOutput\n",
    "from transformers.models.roberta.modeling_roberta import RobertaModel\n",
    "from transformers.models.roberta.modeling_roberta import RobertaPreTrainedModel\n",
    "from seqeval.metrics import f1_score\n",
    "from sklearn.metrics import ConfusionMatrixDisplay , confusion_matrix\n",
    "import matplotlib.pyplot as plt\n",
    "import numpy as np\n",
    "from datasets import load_from_disk\n",
    "import warnings\n",
    "from transformers import AutoTokenizer\n",
    "from pathlib import Path\n",
    "\n",
    "\n",
    "warnings.filterwarnings('ignore')\n",
    "data = load_from_disk(\"Ner_fa_en.hf\")"
   ]
  },
  {
   "cell_type": "code",
   "execution_count": 2,
   "id": "655f629d",
   "metadata": {},
   "outputs": [
    {
     "name": "stderr",
     "output_type": "stream",
     "text": [
      "Loading cached shuffled indices for dataset at E:\\ML\\NLP_Toolbox\\NER\\Ner_fa_en.hf\\train\\cache-2c44c796ee01e6d3.arrow\n",
      "Loading cached shuffled indices for dataset at E:\\ML\\NLP_Toolbox\\NER\\Ner_fa_en.hf\\test\\cache-b7bef56de33a34c1.arrow\n",
      "Loading cached shuffled indices for dataset at E:\\ML\\NLP_Toolbox\\NER\\Ner_fa_en.hf\\validation\\cache-f48254275a8224cc.arrow\n"
     ]
    }
   ],
   "source": [
    "data = data.shuffle(seed=42)"
   ]
  },
  {
   "cell_type": "code",
   "execution_count": 3,
   "id": "7976c926",
   "metadata": {},
   "outputs": [],
   "source": [
    "roberta_model_name = 'xlm-roberta-base'\n",
    "tokenizer = AutoTokenizer.from_pretrained(roberta_model_name)"
   ]
  },
  {
   "cell_type": "code",
   "execution_count": 4,
   "id": "84607ddc",
   "metadata": {},
   "outputs": [],
   "source": [
    "class ParsXLMRobertaForTokenClassification(RobertaPreTrainedModel):\n",
    "    \n",
    "    class_config = XLMRobertaConfig\n",
    "    \n",
    "    def __init__(self , config):\n",
    "        \n",
    "        super().__init__(config)\n",
    "        \n",
    "        self.num_labels = config.num_labels\n",
    "        \n",
    "        self.roberta = RobertaModel(config , add_pooling_layer=False)\n",
    "        \n",
    "        self.dropout = nn.Dropout(config.hidden_dropout_prob)\n",
    "        \n",
    "        self.classifier = nn.Linear(config.hidden_size , config.num_labels)\n",
    "        \n",
    "        self.init_weights()\n",
    "        \n",
    "    def forward(self , input_ids=None , attention_mask=None , token_type_ids=None , labels=None , **kwargs):\n",
    "\n",
    "        outputs = self.roberta(input_ids , attention_mask=attention_mask , token_type_ids=token_type_ids , **kwargs)\n",
    "\n",
    "        sequence_output = self.dropout(outputs[0])\n",
    "\n",
    "        logits = self.classifier(sequence_output)\n",
    "\n",
    "        loss = None\n",
    "\n",
    "        if labels is not None:\n",
    "            loss_fct = nn.CrossEntropyLoss()\n",
    "            loss = loss_fct(logits.view(-1 , self.num_labels) , labels.view(-1))\n",
    "\n",
    "        return TokenClassifierOutput(\n",
    "            loss = loss,\n",
    "            logits = logits,\n",
    "            hidden_states = outputs.hidden_states,\n",
    "            attentions = outputs.attentions\n",
    "        )"
   ]
  },
  {
   "cell_type": "code",
   "execution_count": 5,
   "id": "e3c9ad19",
   "metadata": {},
   "outputs": [],
   "source": [
    "ner_tags = data['train']['ner_tags_names']\n",
    "ner_tag_names = set(tag for tags in ner_tags for tag in tags)\n",
    "                \n",
    "index2tag = {idx: tag for idx, tag in enumerate(ner_tag_names)}\n",
    "tag2index = {tag: idx for idx, tag in enumerate(ner_tag_names)}"
   ]
  },
  {
   "cell_type": "code",
   "execution_count": 6,
   "id": "fc61a6ad",
   "metadata": {},
   "outputs": [
    {
     "data": {
      "text/html": [
       "<div>\n",
       "<style scoped>\n",
       "    .dataframe tbody tr th:only-of-type {\n",
       "        vertical-align: middle;\n",
       "    }\n",
       "\n",
       "    .dataframe tbody tr th {\n",
       "        vertical-align: top;\n",
       "    }\n",
       "\n",
       "    .dataframe thead th {\n",
       "        text-align: right;\n",
       "    }\n",
       "</style>\n",
       "<table border=\"1\" class=\"dataframe\">\n",
       "  <thead>\n",
       "    <tr style=\"text-align: right;\">\n",
       "      <th></th>\n",
       "      <th>0</th>\n",
       "      <th>1</th>\n",
       "      <th>2</th>\n",
       "      <th>3</th>\n",
       "      <th>4</th>\n",
       "      <th>5</th>\n",
       "      <th>6</th>\n",
       "      <th>7</th>\n",
       "      <th>8</th>\n",
       "      <th>9</th>\n",
       "      <th>10</th>\n",
       "      <th>11</th>\n",
       "      <th>12</th>\n",
       "      <th>13</th>\n",
       "      <th>14</th>\n",
       "      <th>15</th>\n",
       "      <th>16</th>\n",
       "      <th>17</th>\n",
       "      <th>18</th>\n",
       "      <th>19</th>\n",
       "      <th>20</th>\n",
       "      <th>21</th>\n",
       "      <th>22</th>\n",
       "      <th>23</th>\n",
       "      <th>24</th>\n",
       "      <th>25</th>\n",
       "    </tr>\n",
       "  </thead>\n",
       "  <tbody>\n",
       "    <tr>\n",
       "      <th>Tokens</th>\n",
       "      <td>&lt;s&gt;</td>\n",
       "      <td>▁سی</td>\n",
       "      <td>ام</td>\n",
       "      <td>▁*</td>\n",
       "      <td>60</td>\n",
       "      <td>84</td>\n",
       "      <td>**</td>\n",
       "      <td>30</td>\n",
       "      <td>70</td>\n",
       "      <td>**</td>\n",
       "      <td>▁خبرنگار</td>\n",
       "      <td>▁:</td>\n",
       "      <td>▁امیر</td>\n",
       "      <td>▁خان</td>\n",
       "      <td>زاده</td>\n",
       "      <td>▁*</td>\n",
       "      <td>▁انتشار</td>\n",
       "      <td>ده</td>\n",
       "      <td>نده</td>\n",
       "      <td>▁:</td>\n",
       "      <td>▁امیر</td>\n",
       "      <td>▁کار</td>\n",
       "      <td>دان</td>\n",
       "      <td>▁</td>\n",
       "      <td>راد</td>\n",
       "      <td>&lt;/s&gt;</td>\n",
       "    </tr>\n",
       "    <tr>\n",
       "      <th>Input IDs</th>\n",
       "      <td>0</td>\n",
       "      <td>4145</td>\n",
       "      <td>5150</td>\n",
       "      <td>661</td>\n",
       "      <td>4598</td>\n",
       "      <td>13903</td>\n",
       "      <td>25442</td>\n",
       "      <td>1197</td>\n",
       "      <td>5757</td>\n",
       "      <td>25442</td>\n",
       "      <td>92190</td>\n",
       "      <td>152</td>\n",
       "      <td>42334</td>\n",
       "      <td>3755</td>\n",
       "      <td>109940</td>\n",
       "      <td>661</td>\n",
       "      <td>29455</td>\n",
       "      <td>6974</td>\n",
       "      <td>12157</td>\n",
       "      <td>152</td>\n",
       "      <td>42334</td>\n",
       "      <td>2067</td>\n",
       "      <td>13759</td>\n",
       "      <td>6</td>\n",
       "      <td>35678</td>\n",
       "      <td>2</td>\n",
       "    </tr>\n",
       "  </tbody>\n",
       "</table>\n",
       "</div>"
      ],
      "text/plain": [
       "            0     1     2    3     4      5      6     7     8      9   \\\n",
       "Tokens     <s>   ▁سی    ام   ▁*    60     84     **    30    70     **   \n",
       "Input IDs    0  4145  5150  661  4598  13903  25442  1197  5757  25442   \n",
       "\n",
       "                 10   11     12    13      14   15       16    17     18   19  \\\n",
       "Tokens     ▁خبرنگار   ▁:  ▁امیر  ▁خان    زاده   ▁*  ▁انتشار    ده    نده   ▁:   \n",
       "Input IDs     92190  152  42334  3755  109940  661    29455  6974  12157  152   \n",
       "\n",
       "              20    21     22 23     24    25  \n",
       "Tokens     ▁امیر  ▁کار    دان  ▁    راد  </s>  \n",
       "Input IDs  42334  2067  13759  6  35678     2  "
      ]
     },
     "execution_count": 6,
     "metadata": {},
     "output_type": "execute_result"
    }
   ],
   "source": [
    "import pandas as pd\n",
    "\n",
    "pd.set_option('display.max_rows', None)  # Show all rows\n",
    "pd.set_option('display.max_columns', None)  # Show all columns\n",
    "per_text = \" \".join(data['train']['tokens'][0])\n",
    "input_ids = tokenizer.encode(per_text, return_tensors=\"pt\")\n",
    "roberta_tokens = tokenizer(per_text).tokens()\n",
    "pd.DataFrame([roberta_tokens, input_ids[0].numpy()], index=[\"Tokens\", \"Input IDs\"])"
   ]
  },
  {
   "cell_type": "code",
   "execution_count": 7,
   "id": "13fe513e",
   "metadata": {},
   "outputs": [],
   "source": [
    "from transformers import RobertaTokenizerFast\n",
    "roberta_tokenizer = AutoTokenizer.from_pretrained(roberta_model_name, add_prefix_space=True)\n",
    "\n",
    "def tokenize_and_align_labels(examples):\n",
    "    tokenized_inputs = roberta_tokenizer(examples[\"tokens\"], truncation=True,\n",
    "    is_split_into_words=True)\n",
    "    labels = []\n",
    "    for idx, label in enumerate(examples[\"ner_tags_names\"]):\n",
    "        word_ids = tokenized_inputs.word_ids(batch_index=idx)\n",
    "        previous_word_idx = None\n",
    "        label_ids = []\n",
    "        for word_idx in word_ids:\n",
    "            if word_idx is None or word_idx == previous_word_idx:\n",
    "                label_ids.append(-100)\n",
    "            else:\n",
    "                label_token = label[word_idx]\n",
    "                # Use the label map to get the numerical value for each entity\n",
    "                label_ids.append(tag2index[label_token])\n",
    "            previous_word_idx = word_idx\n",
    "        labels.append(label_ids)\n",
    "    tokenized_inputs[\"labels\"] = labels\n",
    "    return tokenized_inputs"
   ]
  },
  {
   "cell_type": "code",
   "execution_count": 8,
   "id": "642b77a3",
   "metadata": {},
   "outputs": [],
   "source": [
    "def encode_panx_dataset(corpus):\n",
    "    return corpus.map(tokenize_and_align_labels,batched=True,\n",
    "                      remove_columns=['tokens' , 'ner_tags' , 'ner_tags_names'])"
   ]
  },
  {
   "cell_type": "code",
   "execution_count": 9,
   "id": "172f22f6",
   "metadata": {},
   "outputs": [
    {
     "data": {
      "application/vnd.jupyter.widget-view+json": {
       "model_id": "",
       "version_major": 2,
       "version_minor": 0
      },
      "text/plain": [
       "Map:   0%|          | 0/45838 [00:00<?, ? examples/s]"
      ]
     },
     "metadata": {},
     "output_type": "display_data"
    },
    {
     "data": {
      "application/vnd.jupyter.widget-view+json": {
       "model_id": "",
       "version_major": 2,
       "version_minor": 0
      },
      "text/plain": [
       "Map:   0%|          | 0/6693 [00:00<?, ? examples/s]"
      ]
     },
     "metadata": {},
     "output_type": "display_data"
    },
    {
     "data": {
      "application/vnd.jupyter.widget-view+json": {
       "model_id": "",
       "version_major": 2,
       "version_minor": 0
      },
      "text/plain": [
       "Map:   0%|          | 0/14779 [00:00<?, ? examples/s]"
      ]
     },
     "metadata": {},
     "output_type": "display_data"
    }
   ],
   "source": [
    "encoded_data = encode_panx_dataset(data)"
   ]
  },
  {
   "cell_type": "code",
   "execution_count": 10,
   "id": "bf1f338d",
   "metadata": {},
   "outputs": [],
   "source": [
    "from transformers import AutoConfig\n",
    "\n",
    "roberta_config  = AutoConfig.from_pretrained(\n",
    "    roberta_model_name,\n",
    "    num_labels = len(index2tag),\n",
    "    id2label = index2tag,\n",
    "    label2id = tag2index\n",
    ")"
   ]
  },
  {
   "cell_type": "code",
   "execution_count": 11,
   "id": "ab4d2ed9",
   "metadata": {},
   "outputs": [
    {
     "data": {
      "text/plain": [
       "DatasetDict({\n",
       "    train: Dataset({\n",
       "        features: ['input_ids', 'attention_mask', 'labels'],\n",
       "        num_rows: 45838\n",
       "    })\n",
       "    test: Dataset({\n",
       "        features: ['input_ids', 'attention_mask', 'labels'],\n",
       "        num_rows: 6693\n",
       "    })\n",
       "    validation: Dataset({\n",
       "        features: ['input_ids', 'attention_mask', 'labels'],\n",
       "        num_rows: 14779\n",
       "    })\n",
       "})"
      ]
     },
     "execution_count": 11,
     "metadata": {},
     "output_type": "execute_result"
    }
   ],
   "source": [
    "encoded_data"
   ]
  },
  {
   "cell_type": "code",
   "execution_count": 12,
   "id": "2d4f695f",
   "metadata": {},
   "outputs": [],
   "source": [
    "import numpy as np\n",
    "\n",
    "def align_predictions(predictions, label_ids):\n",
    "        preds = np.argmax(predictions, axis=2)\n",
    "        batch_size, seq_len = preds.shape\n",
    "        labels_list, preds_list = [], []\n",
    "        for batch_idx in range(batch_size):\n",
    "            example_labels, example_preds = [], []\n",
    "            for seq_idx in range(seq_len):\n",
    "                # Ignore label IDs = -100\n",
    "                if label_ids[batch_idx, seq_idx] != -100:\n",
    "                    example_labels.append(index2tag[label_ids[batch_idx][seq_idx]])\n",
    "                    example_preds.append(index2tag[preds[batch_idx][seq_idx]])\n",
    "            labels_list.append(example_labels)\n",
    "            preds_list.append(example_preds)\n",
    "        return preds_list, labels_list"
   ]
  },
  {
   "cell_type": "code",
   "execution_count": 13,
   "id": "b4b33bf8",
   "metadata": {},
   "outputs": [],
   "source": [
    "from transformers import TrainingArguments\n",
    "import torch\n",
    "\n",
    "num_epochs = 8\n",
    "batch_size = 24\n",
    "logging_steps = len(encoded_data['train']) // batch_size\n",
    "\n",
    "training_args = TrainingArguments(\n",
    "    output_dir=\"output\", log_level=\"error\", num_train_epochs=num_epochs,\n",
    "    gradient_checkpointing=True,\n",
    "#     fp16=True,\n",
    "\n",
    "    eval_accumulation_steps=10,\n",
    "    per_device_train_batch_size=batch_size,\n",
    "    per_device_eval_batch_size=batch_size,\n",
    "    seed=42,\n",
    "    logging_strategy=\"steps\", evaluation_strategy=\"epoch\",\n",
    "    save_steps=1e6, weight_decay=0.01, disable_tqdm=False,\n",
    "    logging_steps=logging_steps, push_to_hub=False)\n"
   ]
  },
  {
   "cell_type": "code",
   "execution_count": 14,
   "id": "00aef084",
   "metadata": {},
   "outputs": [],
   "source": [
    "def model_init():\n",
    "    return (ParsXLMRobertaForTokenClassification\n",
    "                  .from_pretrained(roberta_model_name, config=roberta_config,cache_dir=Path.cwd())\n",
    "                  .to(device))"
   ]
  },
  {
   "cell_type": "code",
   "execution_count": 15,
   "id": "72532ed0",
   "metadata": {},
   "outputs": [],
   "source": [
    "from transformers import DataCollatorForTokenClassification\n",
    "# Use the custom data collator\n",
    "data_collator = DataCollatorForTokenClassification(tokenizer=roberta_tokenizer)"
   ]
  },
  {
   "cell_type": "code",
   "execution_count": 16,
   "id": "84b42146",
   "metadata": {},
   "outputs": [],
   "source": [
    "from seqeval.metrics import f1_score,recall_score,precision_score,accuracy_score\n",
    "import wandb\n",
    "\n",
    "def compute_metrics(eval_pred):\n",
    "    y_pred, y_true = align_predictions(eval_pred.predictions,\n",
    "    eval_pred.label_ids)\n",
    "    wandb.log({\"f1\": f1_score(y_true, y_pred),\"Recall\":recall_score(y_true, y_pred),\"Precision\":precision_score(y_true, y_pred),\"Accuracy\":accuracy_score(y_true, y_pred)})\n",
    "    return {\"f1\": f1_score(y_true, y_pred),\"Recall\":recall_score(y_true, y_pred),\"Precision\":precision_score(y_true, y_pred),\"Accuracy\":accuracy_score(y_true, y_pred)}"
   ]
  },
  {
   "cell_type": "code",
   "execution_count": 17,
   "id": "acdd94a0",
   "metadata": {},
   "outputs": [],
   "source": [
    "from transformers import Trainer\n",
    "import torch\n",
    "\n",
    "\n",
    "device = torch.device(\"cuda\" if torch.cuda.is_available() else \"cpu\")\n",
    "\n",
    "trainer = Trainer(model_init=model_init, args=training_args,\n",
    "                    data_collator=data_collator, compute_metrics=compute_metrics,\n",
    "                    train_dataset=encoded_data['train'],\n",
    "                    eval_dataset=encoded_data['validation'],\n",
    "                    tokenizer=tokenizer)\n"
   ]
  },
  {
   "cell_type": "code",
   "execution_count": 18,
   "id": "ca5b350b",
   "metadata": {},
   "outputs": [
    {
     "name": "stderr",
     "output_type": "stream",
     "text": [
      "\u001b[34m\u001b[1mwandb\u001b[0m: Currently logged in as: \u001b[33mali-fartout\u001b[0m. Use \u001b[1m`wandb login --relogin`\u001b[0m to force relogin\n"
     ]
    },
    {
     "data": {
      "application/vnd.jupyter.widget-view+json": {
       "model_id": "5cb509484e5a4d06b1f1bf3e5eaa746f",
       "version_major": 2,
       "version_minor": 0
      },
      "text/plain": [
       "VBox(children=(Label(value='Waiting for wandb.init()...\\r'), FloatProgress(value=0.016916666666656966, max=1.0…"
      ]
     },
     "metadata": {},
     "output_type": "display_data"
    },
    {
     "data": {
      "text/html": [
       "Tracking run with wandb version 0.15.8"
      ],
      "text/plain": [
       "<IPython.core.display.HTML object>"
      ]
     },
     "metadata": {},
     "output_type": "display_data"
    },
    {
     "data": {
      "text/html": [
       "Run data is saved locally in <code>E:\\ML\\NLP_Toolbox\\NER\\wandb\\run-20230821_181943-4ecrhmyj</code>"
      ],
      "text/plain": [
       "<IPython.core.display.HTML object>"
      ]
     },
     "metadata": {},
     "output_type": "display_data"
    },
    {
     "data": {
      "text/html": [
       "Syncing run <strong><a href='https://wandb.ai/ali-fartout/XLMRoberta_not_aligned_data/runs/4ecrhmyj' target=\"_blank\">training-on-english-persian</a></strong> to <a href='https://wandb.ai/ali-fartout/XLMRoberta_not_aligned_data' target=\"_blank\">Weights & Biases</a> (<a href='https://wandb.me/run' target=\"_blank\">docs</a>)<br/>"
      ],
      "text/plain": [
       "<IPython.core.display.HTML object>"
      ]
     },
     "metadata": {},
     "output_type": "display_data"
    },
    {
     "data": {
      "text/html": [
       " View project at <a href='https://wandb.ai/ali-fartout/XLMRoberta_not_aligned_data' target=\"_blank\">https://wandb.ai/ali-fartout/XLMRoberta_not_aligned_data</a>"
      ],
      "text/plain": [
       "<IPython.core.display.HTML object>"
      ]
     },
     "metadata": {},
     "output_type": "display_data"
    },
    {
     "data": {
      "text/html": [
       " View run at <a href='https://wandb.ai/ali-fartout/XLMRoberta_not_aligned_data/runs/4ecrhmyj' target=\"_blank\">https://wandb.ai/ali-fartout/XLMRoberta_not_aligned_data/runs/4ecrhmyj</a>"
      ],
      "text/plain": [
       "<IPython.core.display.HTML object>"
      ]
     },
     "metadata": {},
     "output_type": "display_data"
    },
    {
     "data": {
      "text/html": [
       "\n",
       "    <div>\n",
       "      \n",
       "      <progress value='15280' max='15280' style='width:300px; height:20px; vertical-align: middle;'></progress>\n",
       "      [15280/15280 50:40, Epoch 8/8]\n",
       "    </div>\n",
       "    <table border=\"1\" class=\"dataframe\">\n",
       "  <thead>\n",
       " <tr style=\"text-align: left;\">\n",
       "      <th>Epoch</th>\n",
       "      <th>Training Loss</th>\n",
       "      <th>Validation Loss</th>\n",
       "      <th>F1</th>\n",
       "      <th>Recall</th>\n",
       "      <th>Precision</th>\n",
       "      <th>Accuracy</th>\n",
       "    </tr>\n",
       "  </thead>\n",
       "  <tbody>\n",
       "    <tr>\n",
       "      <td>1</td>\n",
       "      <td>0.142300</td>\n",
       "      <td>0.172737</td>\n",
       "      <td>0.793064</td>\n",
       "      <td>0.806649</td>\n",
       "      <td>0.779929</td>\n",
       "      <td>0.947679</td>\n",
       "    </tr>\n",
       "    <tr>\n",
       "      <td>2</td>\n",
       "      <td>0.083100</td>\n",
       "      <td>0.160695</td>\n",
       "      <td>0.814986</td>\n",
       "      <td>0.832899</td>\n",
       "      <td>0.797828</td>\n",
       "      <td>0.953008</td>\n",
       "    </tr>\n",
       "    <tr>\n",
       "      <td>3</td>\n",
       "      <td>0.059300</td>\n",
       "      <td>0.156281</td>\n",
       "      <td>0.833246</td>\n",
       "      <td>0.840523</td>\n",
       "      <td>0.826093</td>\n",
       "      <td>0.957101</td>\n",
       "    </tr>\n",
       "    <tr>\n",
       "      <td>4</td>\n",
       "      <td>0.042800</td>\n",
       "      <td>0.162643</td>\n",
       "      <td>0.842004</td>\n",
       "      <td>0.848871</td>\n",
       "      <td>0.835248</td>\n",
       "      <td>0.958238</td>\n",
       "    </tr>\n",
       "    <tr>\n",
       "      <td>5</td>\n",
       "      <td>0.031300</td>\n",
       "      <td>0.172152</td>\n",
       "      <td>0.843590</td>\n",
       "      <td>0.848678</td>\n",
       "      <td>0.838562</td>\n",
       "      <td>0.958303</td>\n",
       "    </tr>\n",
       "    <tr>\n",
       "      <td>6</td>\n",
       "      <td>0.021400</td>\n",
       "      <td>0.193801</td>\n",
       "      <td>0.846123</td>\n",
       "      <td>0.852104</td>\n",
       "      <td>0.840225</td>\n",
       "      <td>0.959191</td>\n",
       "    </tr>\n",
       "    <tr>\n",
       "      <td>7</td>\n",
       "      <td>0.014400</td>\n",
       "      <td>0.213033</td>\n",
       "      <td>0.851890</td>\n",
       "      <td>0.860789</td>\n",
       "      <td>0.843172</td>\n",
       "      <td>0.960519</td>\n",
       "    </tr>\n",
       "    <tr>\n",
       "      <td>8</td>\n",
       "      <td>0.009400</td>\n",
       "      <td>0.230762</td>\n",
       "      <td>0.853934</td>\n",
       "      <td>0.860403</td>\n",
       "      <td>0.847562</td>\n",
       "      <td>0.960431</td>\n",
       "    </tr>\n",
       "  </tbody>\n",
       "</table><p>"
      ],
      "text/plain": [
       "<IPython.core.display.HTML object>"
      ]
     },
     "metadata": {},
     "output_type": "display_data"
    },
    {
     "data": {
      "text/html": [
       "Waiting for W&B process to finish... <strong style=\"color:green\">(success).</strong>"
      ],
      "text/plain": [
       "<IPython.core.display.HTML object>"
      ]
     },
     "metadata": {},
     "output_type": "display_data"
    },
    {
     "data": {
      "application/vnd.jupyter.widget-view+json": {
       "model_id": "e03a5e83955b48b587e38c0f174962fe",
       "version_major": 2,
       "version_minor": 0
      },
      "text/plain": [
       "VBox(children=(Label(value='0.001 MB of 0.001 MB uploaded (0.000 MB deduped)\\r'), FloatProgress(value=1.0, max…"
      ]
     },
     "metadata": {},
     "output_type": "display_data"
    },
    {
     "data": {
      "text/html": [
       "<style>\n",
       "    table.wandb td:nth-child(1) { padding: 0 10px; text-align: left ; width: auto;} td:nth-child(2) {text-align: left ; width: 100%}\n",
       "    .wandb-row { display: flex; flex-direction: row; flex-wrap: wrap; justify-content: flex-start; width: 100% }\n",
       "    .wandb-col { display: flex; flex-direction: column; flex-basis: 100%; flex: 1; padding: 10px; }\n",
       "    </style>\n",
       "<div class=\"wandb-row\"><div class=\"wandb-col\"><h3>Run history:</h3><br/><table class=\"wandb\"><tr><td>Accuracy</td><td>▁▄▆▇▇▇██</td></tr><tr><td>Precision</td><td>▁▃▆▇▇▇██</td></tr><tr><td>Recall</td><td>▁▄▅▆▆▇██</td></tr><tr><td>eval/Accuracy</td><td>▁▄▆▇▇▇██</td></tr><tr><td>eval/Precision</td><td>▁▃▆▇▇▇██</td></tr><tr><td>eval/Recall</td><td>▁▄▅▆▆▇██</td></tr><tr><td>eval/f1</td><td>▁▄▆▇▇▇██</td></tr><tr><td>eval/loss</td><td>▃▁▁▂▂▅▆█</td></tr><tr><td>eval/runtime</td><td>▇███▁▇█▇</td></tr><tr><td>eval/samples_per_second</td><td>▂▁▁▁█▂▁▂</td></tr><tr><td>eval/steps_per_second</td><td>▂▁▁▁█▂▁▂</td></tr><tr><td>f1</td><td>▁▄▆▇▇▇██</td></tr><tr><td>train/epoch</td><td>▁▁▂▂▃▃▄▄▅▅▆▆▇▇███</td></tr><tr><td>train/global_step</td><td>▁▁▁▂▂▂▃▃▃▄▄▄▅▅▅▆▆▆▇▇▇████</td></tr><tr><td>train/learning_rate</td><td>█▇▆▅▄▃▂▁</td></tr><tr><td>train/loss</td><td>█▅▄▃▂▂▁▁</td></tr><tr><td>train/total_flos</td><td>▁</td></tr><tr><td>train/train_loss</td><td>▁</td></tr><tr><td>train/train_runtime</td><td>▁</td></tr><tr><td>train/train_samples_per_second</td><td>▁</td></tr><tr><td>train/train_steps_per_second</td><td>▁</td></tr></table><br/></div><div class=\"wandb-col\"><h3>Run summary:</h3><br/><table class=\"wandb\"><tr><td>Accuracy</td><td>0.96043</td></tr><tr><td>Precision</td><td>0.84756</td></tr><tr><td>Recall</td><td>0.8604</td></tr><tr><td>eval/Accuracy</td><td>0.96043</td></tr><tr><td>eval/Precision</td><td>0.84756</td></tr><tr><td>eval/Recall</td><td>0.8604</td></tr><tr><td>eval/f1</td><td>0.85393</td></tr><tr><td>eval/loss</td><td>0.23076</td></tr><tr><td>eval/runtime</td><td>37.598</td></tr><tr><td>eval/samples_per_second</td><td>393.079</td></tr><tr><td>eval/steps_per_second</td><td>16.384</td></tr><tr><td>f1</td><td>0.85393</td></tr><tr><td>train/epoch</td><td>8.0</td></tr><tr><td>train/global_step</td><td>15280</td></tr><tr><td>train/learning_rate</td><td>0.0</td></tr><tr><td>train/loss</td><td>0.0094</td></tr><tr><td>train/total_flos</td><td>1.6523879997474432e+16</td></tr><tr><td>train/train_loss</td><td>0.05048</td></tr><tr><td>train/train_runtime</td><td>3042.5831</td></tr><tr><td>train/train_samples_per_second</td><td>120.524</td></tr><tr><td>train/train_steps_per_second</td><td>5.022</td></tr></table><br/></div></div>"
      ],
      "text/plain": [
       "<IPython.core.display.HTML object>"
      ]
     },
     "metadata": {},
     "output_type": "display_data"
    },
    {
     "data": {
      "text/html": [
       " View run <strong style=\"color:#cdcd00\">training-on-english-persian</strong> at: <a href='https://wandb.ai/ali-fartout/XLMRoberta_not_aligned_data/runs/4ecrhmyj' target=\"_blank\">https://wandb.ai/ali-fartout/XLMRoberta_not_aligned_data/runs/4ecrhmyj</a><br/> View job at <a href='https://wandb.ai/ali-fartout/XLMRoberta_not_aligned_data/jobs/QXJ0aWZhY3RDb2xsZWN0aW9uOjkxNzk5MzQx/version_details/v3' target=\"_blank\">https://wandb.ai/ali-fartout/XLMRoberta_not_aligned_data/jobs/QXJ0aWZhY3RDb2xsZWN0aW9uOjkxNzk5MzQx/version_details/v3</a><br/>Synced 5 W&B file(s), 0 media file(s), 2 artifact file(s) and 0 other file(s)"
      ],
      "text/plain": [
       "<IPython.core.display.HTML object>"
      ]
     },
     "metadata": {},
     "output_type": "display_data"
    },
    {
     "data": {
      "text/html": [
       "Find logs at: <code>.\\wandb\\run-20230821_181943-4ecrhmyj\\logs</code>"
      ],
      "text/plain": [
       "<IPython.core.display.HTML object>"
      ]
     },
     "metadata": {},
     "output_type": "display_data"
    }
   ],
   "source": [
    "import wandb\n",
    "wandb.init(project=\"XLMRoberta_not_aligned_data\",name='training-on-english-persian')\n",
    "result = trainer.train()\n",
    "wandb.finish()"
   ]
  },
  {
   "cell_type": "code",
   "execution_count": 19,
   "id": "78aa5957",
   "metadata": {},
   "outputs": [],
   "source": [
    "def tag_text(text,tags,tokenizer):\n",
    "    \n",
    "    tokens = tokenizer(text).tokens()\n",
    "    \n",
    "    input_ids = tokenizer(text, return_tensors=\"pt\").input_ids.to(device)\n",
    "    outputs = trainer.model(input_ids)[0]\n",
    "    predictions = torch.argmax(outputs, dim=2)    \n",
    "    preds = [tags[p] for p in predictions[0].cpu().numpy()]\n",
    "    return pd.DataFrame([tokens , preds] , index=['token' , 'predicted label'])"
   ]
  },
  {
   "cell_type": "code",
   "execution_count": 25,
   "id": "913c9e37",
   "metadata": {},
   "outputs": [
    {
     "data": {
      "text/html": [
       "<div>\n",
       "<style scoped>\n",
       "    .dataframe tbody tr th:only-of-type {\n",
       "        vertical-align: middle;\n",
       "    }\n",
       "\n",
       "    .dataframe tbody tr th {\n",
       "        vertical-align: top;\n",
       "    }\n",
       "\n",
       "    .dataframe thead th {\n",
       "        text-align: right;\n",
       "    }\n",
       "</style>\n",
       "<table border=\"1\" class=\"dataframe\">\n",
       "  <thead>\n",
       "    <tr style=\"text-align: right;\">\n",
       "      <th></th>\n",
       "      <th>0</th>\n",
       "      <th>1</th>\n",
       "      <th>2</th>\n",
       "      <th>3</th>\n",
       "      <th>4</th>\n",
       "      <th>5</th>\n",
       "      <th>6</th>\n",
       "      <th>7</th>\n",
       "      <th>8</th>\n",
       "    </tr>\n",
       "  </thead>\n",
       "  <tbody>\n",
       "    <tr>\n",
       "      <th>token</th>\n",
       "      <td>&lt;s&gt;</td>\n",
       "      <td>▁Hi</td>\n",
       "      <td>▁Jack</td>\n",
       "      <td>.</td>\n",
       "      <td>▁how</td>\n",
       "      <td>▁are</td>\n",
       "      <td>▁you</td>\n",
       "      <td>?</td>\n",
       "      <td>&lt;/s&gt;</td>\n",
       "    </tr>\n",
       "    <tr>\n",
       "      <th>predicted label</th>\n",
       "      <td>B_PER</td>\n",
       "      <td>B_PER</td>\n",
       "      <td>I_PER</td>\n",
       "      <td>O</td>\n",
       "      <td>O</td>\n",
       "      <td>O</td>\n",
       "      <td>O</td>\n",
       "      <td>O</td>\n",
       "      <td>B_PER</td>\n",
       "    </tr>\n",
       "  </tbody>\n",
       "</table>\n",
       "</div>"
      ],
      "text/plain": [
       "                     0      1      2  3     4     5     6  7      8\n",
       "token              <s>    ▁Hi  ▁Jack  .  ▁how  ▁are  ▁you  ?   </s>\n",
       "predicted label  B_PER  B_PER  I_PER  O     O     O     O  O  B_PER"
      ]
     },
     "execution_count": 25,
     "metadata": {},
     "output_type": "execute_result"
    }
   ],
   "source": [
    "text = \"Hi Jack. how are you?\"\n",
    "tag_text(text , list(ner_tag_names) , tokenizer)"
   ]
  },
  {
   "cell_type": "code",
   "execution_count": 21,
   "id": "0188cbf9",
   "metadata": {},
   "outputs": [
    {
     "data": {
      "text/plain": [
       "<transformers.trainer.Trainer at 0x24f3c10f5b0>"
      ]
     },
     "execution_count": 21,
     "metadata": {},
     "output_type": "execute_result"
    }
   ],
   "source": [
    "trainer"
   ]
  },
  {
   "cell_type": "code",
   "execution_count": 29,
   "id": "1c7a7fee",
   "metadata": {},
   "outputs": [
    {
     "data": {
      "text/plain": [
       "': Jerry Siegel ( deceased ) , Arnold Drake'"
      ]
     },
     "execution_count": 29,
     "metadata": {},
     "output_type": "execute_result"
    }
   ],
   "source": [
    "\" \".join(data['train'][120]['tokens'])"
   ]
  },
  {
   "cell_type": "code",
   "execution_count": 31,
   "id": "5e6ce64d",
   "metadata": {},
   "outputs": [
    {
     "data": {
      "text/plain": [
       "':'"
      ]
     },
     "execution_count": 31,
     "metadata": {},
     "output_type": "execute_result"
    }
   ],
   "source": [
    "data['train'][120]['tokens'][0]"
   ]
  },
  {
   "cell_type": "code",
   "execution_count": null,
   "id": "24b3de23",
   "metadata": {},
   "outputs": [],
   "source": []
  }
 ],
 "metadata": {
  "kernelspec": {
   "display_name": "Python [conda env:Pytorch]",
   "language": "python",
   "name": "conda-env-Pytorch-py"
  },
  "language_info": {
   "codemirror_mode": {
    "name": "ipython",
    "version": 3
   },
   "file_extension": ".py",
   "mimetype": "text/x-python",
   "name": "python",
   "nbconvert_exporter": "python",
   "pygments_lexer": "ipython3",
   "version": "3.9.13"
  }
 },
 "nbformat": 4,
 "nbformat_minor": 5
}
